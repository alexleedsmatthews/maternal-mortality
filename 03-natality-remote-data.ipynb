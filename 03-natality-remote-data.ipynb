{
 "cells": [
  {
   "cell_type": "code",
   "execution_count": 1,
   "id": "2fe15495-1f6c-40bb-8fb3-ed8b605f2059",
   "metadata": {},
   "outputs": [],
   "source": [
    "%load_ext lab_black"
   ]
  },
  {
   "cell_type": "code",
   "execution_count": 2,
   "id": "897374b3-7597-424f-9320-b416344e9f94",
   "metadata": {},
   "outputs": [],
   "source": [
    "import requests\n",
    "import urllib.request\n",
    "import numpy as np"
   ]
  },
  {
   "cell_type": "code",
   "execution_count": 3,
   "id": "89446051-abd5-4e5b-a01a-04ba8ad121c4",
   "metadata": {},
   "outputs": [],
   "source": [
    "import pandas as pd\n",
    "\n",
    "# import gspread\n",
    "# from oauth2client.service_account import ServiceAccountCredentials"
   ]
  },
  {
   "cell_type": "code",
   "execution_count": 4,
   "id": "ece22b86-45cc-4301-9e93-d71907dfdd1d",
   "metadata": {},
   "outputs": [],
   "source": [
    "import altair as alt\n",
    "\n",
    "# import altair_grid as altgrid\n",
    "\n",
    "# alt.themes.register(\"grid\", altgrid.theme)\n",
    "# alt.themes.enable(\"grid\")"
   ]
  },
  {
   "cell_type": "markdown",
   "id": "481b50f7-34aa-4649-b1fd-e6f36703d671",
   "metadata": {},
   "source": [
    "from datawrapper import Datawrapper\n",
    "\n",
    "dw = Datawrapper(\n",
    "    access_token=\"FtIwtvFtoGLaRT9a3gjX69PLu4wSuRyKddoOz6SOPw3k9wWyNICMHTkcPhOGCR5Z\"\n",
    ")"
   ]
  },
  {
   "cell_type": "code",
   "execution_count": 5,
   "id": "608c862d-5ae6-4530-bc32-acc5ec1ab2a2",
   "metadata": {},
   "outputs": [],
   "source": [
    "# scope = ['https://spreadsheets.google.com/feeds']\n",
    "# credentials = ServiceAccountCredentials.from_json_keyfile_name('jupyter-integration-349314-25735d35924b.json', scope)\n",
    "# gc = gspread.authorize(credentials)"
   ]
  },
  {
   "cell_type": "code",
   "execution_count": 6,
   "id": "b980528b-c1d1-4146-8261-06cd55a9a383",
   "metadata": {},
   "outputs": [],
   "source": [
    "# spreadsheet_key = \"1sCb1YbQ3-1oiL-cnK0yCkwFcQpvpf0efIngAUeC1ixo\"\n",
    "# book = gc.open_by_key(spreadsheet_key)"
   ]
  },
  {
   "cell_type": "code",
   "execution_count": 7,
   "id": "1f5ef9f3-903f-44db-9765-ebdde09a9d91",
   "metadata": {},
   "outputs": [],
   "source": [
    "pd.options.display.max_columns = 1000\n",
    "pd.options.display.max_rows = 1000"
   ]
  },
  {
   "cell_type": "markdown",
   "id": "1ca7a953-8eac-4551-af40-e467bc4acbfc",
   "metadata": {
    "tags": []
   },
   "source": [
    "### Remote download needs:\n",
    "#### Natality by year\n",
    "#### Natality by year and race\n",
    "#### Natality by year and state\n",
    "#### Grouped or filtered by preventable risk factors\n",
    "#### Add in violent causes of death"
   ]
  },
  {
   "cell_type": "code",
   "execution_count": 8,
   "id": "1b0a6475-b9e9-4635-b5ae-a7a383b3fb0f",
   "metadata": {
    "tags": []
   },
   "outputs": [
    {
     "name": "stderr",
     "output_type": "stream",
     "text": [
      "/var/folders/0r/jh4nszzx2032ntc658nnc_5w0000gn/T/ipykernel_39910/3213058221.py:1: ParserWarning: Falling back to the 'python' engine because the 'c' engine does not support skipfooter; you can avoid this warning by specifying engine='python'.\n",
      "  natality_year = pd.read_table(\n"
     ]
    }
   ],
   "source": [
    "natality_year = pd.read_table(\n",
    "    \"data/raw/natality_byyear.txt\", dtype={\"Year\": str, \"Births\": int}, skipfooter=22\n",
    ").drop(columns=[\"Notes\", \"Year Code\"])"
   ]
  },
  {
   "cell_type": "markdown",
   "id": "3e598fea-5e50-45ba-9622-b59bd1935f53",
   "metadata": {},
   "source": [
    "### Wonder request needs:\n",
    "#### all maternal mortality causes by cause and year\n",
    "#### all maternal mortality causes by cause and year and race\n",
    "#### all maternal mortality causes by cause and year and state\n",
    "#### id 'preventable' maternal mortality?"
   ]
  },
  {
   "cell_type": "markdown",
   "id": "1171743d-403a-49c4-a494-e16fe26ba6a2",
   "metadata": {},
   "source": [
    "### Looking at annual rates"
   ]
  },
  {
   "cell_type": "code",
   "execution_count": 9,
   "id": "0af756b4-b0a8-4923-a0c4-8ca1597ee1cd",
   "metadata": {},
   "outputs": [],
   "source": [
    "df = pd.read_table(\"data/raw/byyear_andcause.txt\", dtype={\"Year\": str}).drop(\n",
    "    columns=[\"Year Code\"]\n",
    ")\n",
    "df = df[~df[\"Deaths\"].isna()]"
   ]
  },
  {
   "cell_type": "code",
   "execution_count": 10,
   "id": "d9a16aad-d9b8-410d-9f25-1bbc3c26d920",
   "metadata": {},
   "outputs": [
    {
     "data": {
      "text/html": [
       "<div>\n",
       "<style scoped>\n",
       "    .dataframe tbody tr th:only-of-type {\n",
       "        vertical-align: middle;\n",
       "    }\n",
       "\n",
       "    .dataframe tbody tr th {\n",
       "        vertical-align: top;\n",
       "    }\n",
       "\n",
       "    .dataframe thead th {\n",
       "        text-align: right;\n",
       "    }\n",
       "</style>\n",
       "<table border=\"1\" class=\"dataframe\">\n",
       "  <thead>\n",
       "    <tr style=\"text-align: right;\">\n",
       "      <th></th>\n",
       "      <th>Notes</th>\n",
       "      <th>Year</th>\n",
       "      <th>Cause of death</th>\n",
       "      <th>Cause of death Code</th>\n",
       "      <th>Deaths</th>\n",
       "      <th>Population</th>\n",
       "      <th>Crude Rate</th>\n",
       "    </tr>\n",
       "  </thead>\n",
       "  <tbody>\n",
       "    <tr>\n",
       "      <th>0</th>\n",
       "      <td>NaN</td>\n",
       "      <td>1999</td>\n",
       "      <td>Tubal pregnancy</td>\n",
       "      <td>O00.1</td>\n",
       "      <td>5.0</td>\n",
       "      <td>2.790402e+08</td>\n",
       "      <td>Unreliable</td>\n",
       "    </tr>\n",
       "    <tr>\n",
       "      <th>1</th>\n",
       "      <td>NaN</td>\n",
       "      <td>1999</td>\n",
       "      <td>Ectopic pregnancy, unspecified</td>\n",
       "      <td>O00.9</td>\n",
       "      <td>14.0</td>\n",
       "      <td>2.790402e+08</td>\n",
       "      <td>Unreliable</td>\n",
       "    </tr>\n",
       "    <tr>\n",
       "      <th>2</th>\n",
       "      <td>NaN</td>\n",
       "      <td>1999</td>\n",
       "      <td>Hydatidiform mole, unspecified</td>\n",
       "      <td>O01.9</td>\n",
       "      <td>1.0</td>\n",
       "      <td>2.790402e+08</td>\n",
       "      <td>Unreliable</td>\n",
       "    </tr>\n",
       "    <tr>\n",
       "      <th>3</th>\n",
       "      <td>NaN</td>\n",
       "      <td>1999</td>\n",
       "      <td>Blighted ovum and nonhydatidiform mole</td>\n",
       "      <td>O02.0</td>\n",
       "      <td>1.0</td>\n",
       "      <td>2.790402e+08</td>\n",
       "      <td>Unreliable</td>\n",
       "    </tr>\n",
       "    <tr>\n",
       "      <th>4</th>\n",
       "      <td>NaN</td>\n",
       "      <td>1999</td>\n",
       "      <td>Spontaneous abortion, complete or unspecified,...</td>\n",
       "      <td>O03.5</td>\n",
       "      <td>1.0</td>\n",
       "      <td>2.790402e+08</td>\n",
       "      <td>Unreliable</td>\n",
       "    </tr>\n",
       "    <tr>\n",
       "      <th>...</th>\n",
       "      <td>...</td>\n",
       "      <td>...</td>\n",
       "      <td>...</td>\n",
       "      <td>...</td>\n",
       "      <td>...</td>\n",
       "      <td>...</td>\n",
       "      <td>...</td>\n",
       "    </tr>\n",
       "    <tr>\n",
       "      <th>1708</th>\n",
       "      <td>NaN</td>\n",
       "      <td>2020</td>\n",
       "      <td>Diseases of the respiratory system complicatin...</td>\n",
       "      <td>O99.5</td>\n",
       "      <td>23.0</td>\n",
       "      <td>3.294841e+08</td>\n",
       "      <td>0.0</td>\n",
       "    </tr>\n",
       "    <tr>\n",
       "      <th>1709</th>\n",
       "      <td>NaN</td>\n",
       "      <td>2020</td>\n",
       "      <td>Diseases of the digestive system complicating ...</td>\n",
       "      <td>O99.6</td>\n",
       "      <td>2.0</td>\n",
       "      <td>3.294841e+08</td>\n",
       "      <td>Unreliable</td>\n",
       "    </tr>\n",
       "    <tr>\n",
       "      <th>1710</th>\n",
       "      <td>NaN</td>\n",
       "      <td>2020</td>\n",
       "      <td>Other specified diseases and conditions compli...</td>\n",
       "      <td>O99.8</td>\n",
       "      <td>94.0</td>\n",
       "      <td>3.294841e+08</td>\n",
       "      <td>0.0</td>\n",
       "    </tr>\n",
       "    <tr>\n",
       "      <th>1711</th>\n",
       "      <td>Total</td>\n",
       "      <td>2020</td>\n",
       "      <td>NaN</td>\n",
       "      <td>NaN</td>\n",
       "      <td>861.0</td>\n",
       "      <td>3.294841e+08</td>\n",
       "      <td>0.3</td>\n",
       "    </tr>\n",
       "    <tr>\n",
       "      <th>1712</th>\n",
       "      <td>Total</td>\n",
       "      <td>NaN</td>\n",
       "      <td>NaN</td>\n",
       "      <td>NaN</td>\n",
       "      <td>14408.0</td>\n",
       "      <td>6.746357e+09</td>\n",
       "      <td>0.2</td>\n",
       "    </tr>\n",
       "  </tbody>\n",
       "</table>\n",
       "<p>1713 rows × 7 columns</p>\n",
       "</div>"
      ],
      "text/plain": [
       "      Notes   Year                                     Cause of death  \\\n",
       "0       NaN   1999                                    Tubal pregnancy   \n",
       "1       NaN   1999                     Ectopic pregnancy, unspecified   \n",
       "2       NaN   1999                     Hydatidiform mole, unspecified   \n",
       "3       NaN   1999             Blighted ovum and nonhydatidiform mole   \n",
       "4       NaN   1999  Spontaneous abortion, complete or unspecified,...   \n",
       "...     ...    ...                                                ...   \n",
       "1708    NaN  2020   Diseases of the respiratory system complicatin...   \n",
       "1709    NaN  2020   Diseases of the digestive system complicating ...   \n",
       "1710    NaN  2020   Other specified diseases and conditions compli...   \n",
       "1711  Total  2020                                                 NaN   \n",
       "1712  Total    NaN                                                NaN   \n",
       "\n",
       "     Cause of death Code   Deaths    Population  Crude Rate  \n",
       "0                  O00.1      5.0  2.790402e+08  Unreliable  \n",
       "1                  O00.9     14.0  2.790402e+08  Unreliable  \n",
       "2                  O01.9      1.0  2.790402e+08  Unreliable  \n",
       "3                  O02.0      1.0  2.790402e+08  Unreliable  \n",
       "4                  O03.5      1.0  2.790402e+08  Unreliable  \n",
       "...                  ...      ...           ...         ...  \n",
       "1708               O99.5     23.0  3.294841e+08         0.0  \n",
       "1709               O99.6      2.0  3.294841e+08  Unreliable  \n",
       "1710               O99.8     94.0  3.294841e+08         0.0  \n",
       "1711                 NaN    861.0  3.294841e+08         0.3  \n",
       "1712                 NaN  14408.0  6.746357e+09         0.2  \n",
       "\n",
       "[1713 rows x 7 columns]"
      ]
     },
     "execution_count": 10,
     "metadata": {},
     "output_type": "execute_result"
    }
   ],
   "source": [
    "df"
   ]
  },
  {
   "cell_type": "code",
   "execution_count": 11,
   "id": "2810afa9-1785-4a75-8f41-4b781063195a",
   "metadata": {},
   "outputs": [],
   "source": [
    "rates_perlivebirths = df.merge(natality_year, on=\"Year\")\n",
    "rates_perlivebirths[\"rate\"] = 100000 * (\n",
    "    rates_perlivebirths[\"Deaths\"] / rates_perlivebirths[\"Births\"]\n",
    ")"
   ]
  },
  {
   "cell_type": "code",
   "execution_count": 12,
   "id": "96999a25-bce9-45a6-a12a-d1718b002db4",
   "metadata": {},
   "outputs": [],
   "source": [
    "rates_perlivebirths.columns = rates_perlivebirths.columns.str.lower().str.replace(\n",
    "    \" \", \"_\"\n",
    ")"
   ]
  },
  {
   "cell_type": "code",
   "execution_count": 13,
   "id": "681254c1-3192-4a56-bb2c-1bbc9a90d733",
   "metadata": {},
   "outputs": [],
   "source": [
    "pd.set_option(\"display.max_columns\", None)\n",
    "\n",
    "top_five = (\n",
    "    rates_perlivebirths[~rates_perlivebirths[\"cause_of_death_code\"].isna()]\n",
    "    .sort_values([\"year\", \"rate\"], ascending=False)\n",
    "    .groupby(\"year\")\n",
    "    .head(5)\n",
    "    .drop(columns=[\"notes\", \"population\"])\n",
    ")"
   ]
  },
  {
   "cell_type": "code",
   "execution_count": 14,
   "id": "9db57167-4a46-4935-a57a-29ecc91e201b",
   "metadata": {},
   "outputs": [],
   "source": [
    "wide_top5 = top_five.pivot(\n",
    "    index=\"cause_of_death\", columns=\"year\", values=\"rate\"\n",
    ").fillna(0)"
   ]
  },
  {
   "cell_type": "markdown",
   "id": "de5be4b1-0b40-4561-9493-90dc8652314f",
   "metadata": {},
   "source": [
    "### top five causes over time"
   ]
  },
  {
   "cell_type": "code",
   "execution_count": 15,
   "id": "2c71b36f-6dec-4e49-8400-1779081f95c6",
   "metadata": {},
   "outputs": [
    {
     "data": {
      "text/html": [
       "\n",
       "<div id=\"altair-viz-6ee8c84e2a6c4fb6b967d0699dc0f1e3\"></div>\n",
       "<script type=\"text/javascript\">\n",
       "  var VEGA_DEBUG = (typeof VEGA_DEBUG == \"undefined\") ? {} : VEGA_DEBUG;\n",
       "  (function(spec, embedOpt){\n",
       "    let outputDiv = document.currentScript.previousElementSibling;\n",
       "    if (outputDiv.id !== \"altair-viz-6ee8c84e2a6c4fb6b967d0699dc0f1e3\") {\n",
       "      outputDiv = document.getElementById(\"altair-viz-6ee8c84e2a6c4fb6b967d0699dc0f1e3\");\n",
       "    }\n",
       "    const paths = {\n",
       "      \"vega\": \"https://cdn.jsdelivr.net/npm//vega@5?noext\",\n",
       "      \"vega-lib\": \"https://cdn.jsdelivr.net/npm//vega-lib?noext\",\n",
       "      \"vega-lite\": \"https://cdn.jsdelivr.net/npm//vega-lite@4.17.0?noext\",\n",
       "      \"vega-embed\": \"https://cdn.jsdelivr.net/npm//vega-embed@6?noext\",\n",
       "    };\n",
       "\n",
       "    function maybeLoadScript(lib, version) {\n",
       "      var key = `${lib.replace(\"-\", \"\")}_version`;\n",
       "      return (VEGA_DEBUG[key] == version) ?\n",
       "        Promise.resolve(paths[lib]) :\n",
       "        new Promise(function(resolve, reject) {\n",
       "          var s = document.createElement('script');\n",
       "          document.getElementsByTagName(\"head\")[0].appendChild(s);\n",
       "          s.async = true;\n",
       "          s.onload = () => {\n",
       "            VEGA_DEBUG[key] = version;\n",
       "            return resolve(paths[lib]);\n",
       "          };\n",
       "          s.onerror = () => reject(`Error loading script: ${paths[lib]}`);\n",
       "          s.src = paths[lib];\n",
       "        });\n",
       "    }\n",
       "\n",
       "    function showError(err) {\n",
       "      outputDiv.innerHTML = `<div class=\"error\" style=\"color:red;\">${err}</div>`;\n",
       "      throw err;\n",
       "    }\n",
       "\n",
       "    function displayChart(vegaEmbed) {\n",
       "      vegaEmbed(outputDiv, spec, embedOpt)\n",
       "        .catch(err => showError(`Javascript Error: ${err.message}<br>This usually means there's a typo in your chart specification. See the javascript console for the full traceback.`));\n",
       "    }\n",
       "\n",
       "    if(typeof define === \"function\" && define.amd) {\n",
       "      requirejs.config({paths});\n",
       "      require([\"vega-embed\"], displayChart, err => showError(`Error loading script: ${err.message}`));\n",
       "    } else {\n",
       "      maybeLoadScript(\"vega\", \"5\")\n",
       "        .then(() => maybeLoadScript(\"vega-lite\", \"4.17.0\"))\n",
       "        .then(() => maybeLoadScript(\"vega-embed\", \"6\"))\n",
       "        .catch(showError)\n",
       "        .then(() => displayChart(vegaEmbed));\n",
       "    }\n",
       "  })({\"config\": {\"view\": {\"continuousWidth\": 400, \"continuousHeight\": 300}}, \"data\": {\"name\": \"data-a21e20bd3d5e2200b4e9a080cdf5f1ea\"}, \"mark\": {\"type\": \"line\", \"point\": true}, \"encoding\": {\"color\": {\"field\": \"cause_of_death\", \"type\": \"nominal\"}, \"x\": {\"field\": \"year\", \"type\": \"ordinal\"}, \"y\": {\"field\": \"rate\", \"type\": \"quantitative\"}}, \"$schema\": \"https://vega.github.io/schema/vega-lite/v4.17.0.json\", \"datasets\": {\"data-a21e20bd3d5e2200b4e9a080cdf5f1ea\": [{\"year\": \"2019\", \"cause_of_death\": \"Other specified pregnancy-related conditions\", \"cause_of_death_code\": \"O26.8\", \"deaths\": 174.0, \"crude_rate\": \"0.1\", \"births\": 3747540, \"rate\": 4.643045838069774}, {\"year\": \"2019\", \"cause_of_death\": \"Other specified diseases and conditions complicating pregnancy, childbirth and the puerperium\", \"cause_of_death_code\": \"O99.8\", \"deaths\": 96.0, \"crude_rate\": \"0.0\", \"births\": 3747540, \"rate\": 2.5616804623833236}, {\"year\": \"2019\", \"cause_of_death\": \"Diseases of the circulatory system complicating pregnancy, childbirth and the puerperium\", \"cause_of_death_code\": \"O99.4\", \"deaths\": 72.0, \"crude_rate\": \"0.0\", \"births\": 3747540, \"rate\": 1.9212603467874927}, {\"year\": \"2019\", \"cause_of_death\": \"Cardiomyopathy in the puerperium\", \"cause_of_death_code\": \"O90.3\", \"deaths\": 32.0, \"crude_rate\": \"0.0\", \"births\": 3747540, \"rate\": 0.8538934874611078}, {\"year\": \"2019\", \"cause_of_death\": \"Obstetric death of unspecified cause\", \"cause_of_death_code\": \"O95\", \"deaths\": 30.0, \"crude_rate\": \"0.0\", \"births\": 3747540, \"rate\": 0.8005251444947886}, {\"year\": \"2018\", \"cause_of_death\": \"Other specified pregnancy-related conditions\", \"cause_of_death_code\": \"O26.8\", \"deaths\": 180.0, \"crude_rate\": \"0.1\", \"births\": 3791712, \"rate\": 4.747195989568827}, {\"year\": \"2018\", \"cause_of_death\": \"Other specified diseases and conditions complicating pregnancy, childbirth and the puerperium\", \"cause_of_death_code\": \"O99.8\", \"deaths\": 66.0, \"crude_rate\": \"0.0\", \"births\": 3791712, \"rate\": 1.7406385295085702}, {\"year\": \"2018\", \"cause_of_death\": \"Diseases of the circulatory system complicating pregnancy, childbirth and the puerperium\", \"cause_of_death_code\": \"O99.4\", \"deaths\": 43.0, \"crude_rate\": \"0.0\", \"births\": 3791712, \"rate\": 1.1340523752858866}, {\"year\": \"2018\", \"cause_of_death\": \"Liver disorders in pregnancy, childbirth and the puerperium\", \"cause_of_death_code\": \"O26.6\", \"deaths\": 29.0, \"crude_rate\": \"0.0\", \"births\": 3791712, \"rate\": 0.7648260205416445}, {\"year\": \"2018\", \"cause_of_death\": \"Amniotic fluid embolism\", \"cause_of_death_code\": \"O88.1\", \"deaths\": 26.0, \"crude_rate\": \"0.0\", \"births\": 3791712, \"rate\": 0.685706087382164}, {\"year\": \"2017\", \"cause_of_death\": \"Other specified pregnancy-related conditions\", \"cause_of_death_code\": \"O26.8\", \"deaths\": 237.0, \"crude_rate\": \"0.1\", \"births\": 3855500, \"rate\": 6.14706263779017}, {\"year\": \"2017\", \"cause_of_death\": \"Other specified diseases and conditions complicating pregnancy, childbirth and the puerperium\", \"cause_of_death_code\": \"O99.8\", \"deaths\": 106.0, \"crude_rate\": \"0.0\", \"births\": 3855500, \"rate\": 2.749319154454675}, {\"year\": \"2017\", \"cause_of_death\": \"Diseases of the circulatory system complicating pregnancy, childbirth and the puerperium\", \"cause_of_death_code\": \"O99.4\", \"deaths\": 70.0, \"crude_rate\": \"0.0\", \"births\": 3855500, \"rate\": 1.815588120866295}, {\"year\": \"2017\", \"cause_of_death\": \"Liver disorders in pregnancy, childbirth and the puerperium\", \"cause_of_death_code\": \"O26.6\", \"deaths\": 34.0, \"crude_rate\": \"0.0\", \"births\": 3855500, \"rate\": 0.8818570872779148}, {\"year\": \"2017\", \"cause_of_death\": \"Cardiomyopathy in the puerperium\", \"cause_of_death_code\": \"O90.3\", \"deaths\": 30.0, \"crude_rate\": \"0.0\", \"births\": 3855500, \"rate\": 0.7781091946569835}, {\"year\": \"2016\", \"cause_of_death\": \"Other specified pregnancy-related conditions\", \"cause_of_death_code\": \"O26.8\", \"deaths\": 239.0, \"crude_rate\": \"0.1\", \"births\": 3945875, \"rate\": 6.056958215858333}, {\"year\": \"2016\", \"cause_of_death\": \"Other specified diseases and conditions complicating pregnancy, childbirth and the puerperium\", \"cause_of_death_code\": \"O99.8\", \"deaths\": 136.0, \"crude_rate\": \"0.0\", \"births\": 3945875, \"rate\": 3.4466373111160387}, {\"year\": \"2016\", \"cause_of_death\": \"Diseases of the circulatory system complicating pregnancy, childbirth and the puerperium\", \"cause_of_death_code\": \"O99.4\", \"deaths\": 78.0, \"crude_rate\": \"0.0\", \"births\": 3945875, \"rate\": 1.9767478696106693}, {\"year\": \"2016\", \"cause_of_death\": \"Liver disorders in pregnancy, childbirth and the puerperium\", \"cause_of_death_code\": \"O26.6\", \"deaths\": 39.0, \"crude_rate\": \"0.0\", \"births\": 3945875, \"rate\": 0.9883739348053346}, {\"year\": \"2016\", \"cause_of_death\": \"Cardiomyopathy in the puerperium\", \"cause_of_death_code\": \"O90.3\", \"deaths\": 34.0, \"crude_rate\": \"0.0\", \"births\": 3945875, \"rate\": 0.8616593277790097}, {\"year\": \"2015\", \"cause_of_death\": \"Other specified pregnancy-related conditions\", \"cause_of_death_code\": \"O26.8\", \"deaths\": 232.0, \"crude_rate\": \"0.1\", \"births\": 3978497, \"rate\": 5.83134786830303}, {\"year\": \"2015\", \"cause_of_death\": \"Other specified diseases and conditions complicating pregnancy, childbirth and the puerperium\", \"cause_of_death_code\": \"O99.8\", \"deaths\": 145.0, \"crude_rate\": \"0.0\", \"births\": 3978497, \"rate\": 3.6445924176893936}, {\"year\": \"2015\", \"cause_of_death\": \"Diseases of the circulatory system complicating pregnancy, childbirth and the puerperium\", \"cause_of_death_code\": \"O99.4\", \"deaths\": 79.0, \"crude_rate\": \"0.0\", \"births\": 3978497, \"rate\": 1.98567448963767}, {\"year\": \"2015\", \"cause_of_death\": \"Cardiomyopathy in the puerperium\", \"cause_of_death_code\": \"O90.3\", \"deaths\": 30.0, \"crude_rate\": \"0.0\", \"births\": 3978497, \"rate\": 0.7540536036598745}, {\"year\": \"2015\", \"cause_of_death\": \"Liver disorders in pregnancy, childbirth and the puerperium\", \"cause_of_death_code\": \"O26.6\", \"deaths\": 24.0, \"crude_rate\": \"0.0\", \"births\": 3978497, \"rate\": 0.6032428829278997}, {\"year\": \"2014\", \"cause_of_death\": \"Other specified pregnancy-related conditions\", \"cause_of_death_code\": \"O26.8\", \"deaths\": 210.0, \"crude_rate\": \"0.1\", \"births\": 3988076, \"rate\": 5.26569704288484}, {\"year\": \"2014\", \"cause_of_death\": \"Other specified diseases and conditions complicating pregnancy, childbirth and the puerperium\", \"cause_of_death_code\": \"O99.8\", \"deaths\": 146.0, \"crude_rate\": \"0.0\", \"births\": 3988076, \"rate\": 3.6609131821961265}, {\"year\": \"2014\", \"cause_of_death\": \"Diseases of the circulatory system complicating pregnancy, childbirth and the puerperium\", \"cause_of_death_code\": \"O99.4\", \"deaths\": 79.0, \"crude_rate\": \"0.0\", \"births\": 3988076, \"rate\": 1.9809050780376303}, {\"year\": \"2014\", \"cause_of_death\": \"Cardiomyopathy in the puerperium\", \"cause_of_death_code\": \"O90.3\", \"deaths\": 35.0, \"crude_rate\": \"0.0\", \"births\": 3988076, \"rate\": 0.8776161738141399}, {\"year\": \"2014\", \"cause_of_death\": \"Diabetes mellitus in pregnancy, unspecified\", \"cause_of_death_code\": \"O24.9\", \"deaths\": 33.0, \"crude_rate\": \"0.0\", \"births\": 3988076, \"rate\": 0.8274666781676178}, {\"year\": \"2013\", \"cause_of_death\": \"Other specified pregnancy-related conditions\", \"cause_of_death_code\": \"O26.8\", \"deaths\": 199.0, \"crude_rate\": \"0.1\", \"births\": 3932181, \"rate\": 5.060804678116292}, {\"year\": \"2013\", \"cause_of_death\": \"Other specified diseases and conditions complicating pregnancy, childbirth and the puerperium\", \"cause_of_death_code\": \"O99.8\", \"deaths\": 124.0, \"crude_rate\": \"0.0\", \"births\": 3932181, \"rate\": 3.1534662315900515}, {\"year\": \"2013\", \"cause_of_death\": \"Diseases of the circulatory system complicating pregnancy, childbirth and the puerperium\", \"cause_of_death_code\": \"O99.4\", \"deaths\": 68.0, \"crude_rate\": \"0.0\", \"births\": 3932181, \"rate\": 1.729320191517125}, {\"year\": \"2013\", \"cause_of_death\": \"Cardiomyopathy in the puerperium\", \"cause_of_death_code\": \"O90.3\", \"deaths\": 49.0, \"crude_rate\": \"0.0\", \"births\": 3932181, \"rate\": 1.2461277850638106}, {\"year\": \"2013\", \"cause_of_death\": \"Liver disorders in pregnancy, childbirth and the puerperium\", \"cause_of_death_code\": \"O26.6\", \"deaths\": 32.0, \"crude_rate\": \"0.0\", \"births\": 3932181, \"rate\": 0.8137977371845293}, {\"year\": \"2012\", \"cause_of_death\": \"Other specified pregnancy-related conditions\", \"cause_of_death_code\": \"O26.8\", \"deaths\": 198.0, \"crude_rate\": \"0.1\", \"births\": 3952841, \"rate\": 5.009055512225258}, {\"year\": \"2012\", \"cause_of_death\": \"Other specified diseases and conditions complicating pregnancy, childbirth and the puerperium\", \"cause_of_death_code\": \"O99.8\", \"deaths\": 136.0, \"crude_rate\": \"0.0\", \"births\": 3952841, \"rate\": 3.440563382134521}, {\"year\": \"2012\", \"cause_of_death\": \"Diseases of the circulatory system complicating pregnancy, childbirth and the puerperium\", \"cause_of_death_code\": \"O99.4\", \"deaths\": 77.0, \"crude_rate\": \"0.0\", \"births\": 3952841, \"rate\": 1.9479660325320445}, {\"year\": \"2012\", \"cause_of_death\": \"Cardiomyopathy in the puerperium\", \"cause_of_death_code\": \"O90.3\", \"deaths\": 41.0, \"crude_rate\": \"0.0\", \"births\": 3952841, \"rate\": 1.037228666672907}, {\"year\": \"2012\", \"cause_of_death\": \"Obstetric death of unspecified cause\", \"cause_of_death_code\": \"O95\", \"deaths\": 27.0, \"crude_rate\": \"0.0\", \"births\": 3952841, \"rate\": 0.6830530243943533}, {\"year\": \"2011\", \"cause_of_death\": \"Other specified pregnancy-related conditions\", \"cause_of_death_code\": \"O26.8\", \"deaths\": 145.0, \"crude_rate\": \"0.0\", \"births\": 3953590, \"rate\": 3.6675527811432143}, {\"year\": \"2011\", \"cause_of_death\": \"Other specified diseases and conditions complicating pregnancy, childbirth and the puerperium\", \"cause_of_death_code\": \"O99.8\", \"deaths\": 125.0, \"crude_rate\": \"0.0\", \"births\": 3953590, \"rate\": 3.1616834320200122}, {\"year\": \"2011\", \"cause_of_death\": \"Diseases of the circulatory system complicating pregnancy, childbirth and the puerperium\", \"cause_of_death_code\": \"O99.4\", \"deaths\": 58.0, \"crude_rate\": \"0.0\", \"births\": 3953590, \"rate\": 1.4670211124572856}, {\"year\": \"2011\", \"cause_of_death\": \"Obstetric death of unspecified cause\", \"cause_of_death_code\": \"O95\", \"deaths\": 40.0, \"crude_rate\": \"0.0\", \"births\": 3953590, \"rate\": 1.011738698246404}, {\"year\": \"2011\", \"cause_of_death\": \"Cardiomyopathy in the puerperium\", \"cause_of_death_code\": \"O90.3\", \"deaths\": 35.0, \"crude_rate\": \"0.0\", \"births\": 3953590, \"rate\": 0.8852713609656034}, {\"year\": \"2010\", \"cause_of_death\": \"Other specified pregnancy-related conditions\", \"cause_of_death_code\": \"O26.8\", \"deaths\": 116.0, \"crude_rate\": \"0.0\", \"births\": 3999386, \"rate\": 2.9004452183410154}, {\"year\": \"2010\", \"cause_of_death\": \"Other specified diseases and conditions complicating pregnancy, childbirth and the puerperium\", \"cause_of_death_code\": \"O99.8\", \"deaths\": 86.0, \"crude_rate\": \"0.0\", \"births\": 3999386, \"rate\": 2.1503300756666146}, {\"year\": \"2010\", \"cause_of_death\": \"Diseases of the circulatory system complicating pregnancy, childbirth and the puerperium\", \"cause_of_death_code\": \"O99.4\", \"deaths\": 60.0, \"crude_rate\": \"0.0\", \"births\": 3999386, \"rate\": 1.500230285348801}, {\"year\": \"2010\", \"cause_of_death\": \"Cardiomyopathy in the puerperium\", \"cause_of_death_code\": \"O90.3\", \"deaths\": 37.0, \"crude_rate\": \"0.0\", \"births\": 3999386, \"rate\": 0.9251420092984273}, {\"year\": \"2010\", \"cause_of_death\": \"Obstetric death of unspecified cause\", \"cause_of_death_code\": \"O95\", \"deaths\": 36.0, \"crude_rate\": \"0.0\", \"births\": 3999386, \"rate\": 0.9001381712092805}, {\"year\": \"2009\", \"cause_of_death\": \"Other specified pregnancy-related conditions\", \"cause_of_death_code\": \"O26.8\", \"deaths\": 123.0, \"crude_rate\": \"0.0\", \"births\": 4130665, \"rate\": 2.9777287676439506}, {\"year\": \"2009\", \"cause_of_death\": \"Other specified diseases and conditions complicating pregnancy, childbirth and the puerperium\", \"cause_of_death_code\": \"O99.8\", \"deaths\": 74.0, \"crude_rate\": \"0.0\", \"births\": 4130665, \"rate\": 1.7914790959809135}, {\"year\": \"2009\", \"cause_of_death\": \"Diseases of the circulatory system complicating pregnancy, childbirth and the puerperium\", \"cause_of_death_code\": \"O99.4\", \"deaths\": 58.0, \"crude_rate\": \"0.0\", \"births\": 4130665, \"rate\": 1.4041322644174727}, {\"year\": \"2009\", \"cause_of_death\": \"Cardiomyopathy in the puerperium\", \"cause_of_death_code\": \"O90.3\", \"deaths\": 40.0, \"crude_rate\": \"0.0\", \"births\": 4130665, \"rate\": 0.9683670789086019}, {\"year\": \"2009\", \"cause_of_death\": \"Obstetric death of unspecified cause\", \"cause_of_death_code\": \"O95\", \"deaths\": 37.0, \"crude_rate\": \"0.0\", \"births\": 4130665, \"rate\": 0.8957395479904567}, {\"year\": \"2008\", \"cause_of_death\": \"Other specified pregnancy-related conditions\", \"cause_of_death_code\": \"O26.8\", \"deaths\": 94.0, \"crude_rate\": \"0.0\", \"births\": 4247694, \"rate\": 2.212965434892438}, {\"year\": \"2008\", \"cause_of_death\": \"Other specified diseases and conditions complicating pregnancy, childbirth and the puerperium\", \"cause_of_death_code\": \"O99.8\", \"deaths\": 80.0, \"crude_rate\": \"0.0\", \"births\": 4247694, \"rate\": 1.8833748382063302}, {\"year\": \"2008\", \"cause_of_death\": \"Diseases of the circulatory system complicating pregnancy, childbirth and the puerperium\", \"cause_of_death_code\": \"O99.4\", \"deaths\": 57.0, \"crude_rate\": \"0.0\", \"births\": 4247694, \"rate\": 1.3419045722220102}, {\"year\": \"2008\", \"cause_of_death\": \"Cardiomyopathy in the puerperium\", \"cause_of_death_code\": \"O90.3\", \"deaths\": 42.0, \"crude_rate\": \"0.0\", \"births\": 4247694, \"rate\": 0.9887717900583234}, {\"year\": \"2008\", \"cause_of_death\": \"Obstetric death of unspecified cause\", \"cause_of_death_code\": \"O95\", \"deaths\": 35.0, \"crude_rate\": \"0.0\", \"births\": 4247694, \"rate\": 0.8239764917152694}, {\"year\": \"2007\", \"cause_of_death\": \"Other specified pregnancy-related conditions\", \"cause_of_death_code\": \"O26.8\", \"deaths\": 75.0, \"crude_rate\": \"0.0\", \"births\": 4316233, \"rate\": 1.7376263051600784}, {\"year\": \"2007\", \"cause_of_death\": \"Other specified diseases and conditions complicating pregnancy, childbirth and the puerperium\", \"cause_of_death_code\": \"O99.8\", \"deaths\": 57.0, \"crude_rate\": \"0.0\", \"births\": 4316233, \"rate\": 1.3205959919216594}, {\"year\": \"2007\", \"cause_of_death\": \"Diseases of the circulatory system complicating pregnancy, childbirth and the puerperium\", \"cause_of_death_code\": \"O99.4\", \"deaths\": 54.0, \"crude_rate\": \"0.0\", \"births\": 4316233, \"rate\": 1.2510909397152563}, {\"year\": \"2007\", \"cause_of_death\": \"Cardiomyopathy in the puerperium\", \"cause_of_death_code\": \"O90.3\", \"deaths\": 33.0, \"crude_rate\": \"0.0\", \"births\": 4316233, \"rate\": 0.7645555742704345}, {\"year\": \"2007\", \"cause_of_death\": \"Amniotic fluid embolism\", \"cause_of_death_code\": \"O88.1\", \"deaths\": 21.0, \"crude_rate\": \"0.0\", \"births\": 4316233, \"rate\": 0.4865353654448219}]}}, {\"mode\": \"vega-lite\"});\n",
       "</script>"
      ],
      "text/plain": [
       "alt.Chart(...)"
      ]
     },
     "execution_count": 15,
     "metadata": {},
     "output_type": "execute_result"
    }
   ],
   "source": [
    "alt.Chart(top_five).mark_line(point=True).encode(\n",
    "    x=alt.X(\"year:O\"), y=alt.Y(\"rate\"), color=\"cause_of_death:N\"\n",
    ")"
   ]
  },
  {
   "cell_type": "markdown",
   "id": "e02dff6d-8e4c-43a4-8486-08c707d69894",
   "metadata": {
    "tags": []
   },
   "source": [
    "### By year and race\n",
    "#### start with deaths\n",
    "#### prefiltered for mm causes (including timing)\n",
    "#### then combine race and hispanic origin"
   ]
  },
  {
   "cell_type": "code",
   "execution_count": 16,
   "id": "5f9d2e80-9ac7-47ee-9994-e5b1d58439d7",
   "metadata": {},
   "outputs": [],
   "source": [
    "df = pd.read_table(\"data/raw/byyear_cause_race.txt\", dtype={\"Year\": str}).drop(\n",
    "    columns=[\"Year Code\"]\n",
    ")\n",
    "df = df[~df[\"Deaths\"].isna()]\n",
    "df[\"Year\"] = df[\"Year\"].str.strip()"
   ]
  },
  {
   "cell_type": "code",
   "execution_count": 17,
   "id": "c3ea5395-c53d-47fa-81a5-8329a32780ab",
   "metadata": {},
   "outputs": [],
   "source": [
    "df.columns = df.columns.str.lower().str.replace(\" \", \"_\")"
   ]
  },
  {
   "cell_type": "code",
   "execution_count": 18,
   "id": "f6b60348-7beb-4679-ba03-8ca9008fd73a",
   "metadata": {},
   "outputs": [],
   "source": [
    "race_ho_conditions = [\n",
    "    ((df[\"race\"] == \"White\") & (df[\"hispanic_origin\"] == \"Not Hispanic or Latino\")),\n",
    "    (\n",
    "        (df[\"race\"] == \"Black or African American\")\n",
    "        & (df[\"hispanic_origin\"] == \"Not Hispanic or Latino\")\n",
    "    ),\n",
    "    (\n",
    "        (df[\"race\"] == \"Asian or Pacific Islander\")\n",
    "        & (df[\"hispanic_origin\"] == \"Not Hispanic or Latino\")\n",
    "    ),\n",
    "    (\n",
    "        (df[\"race\"] == \"American Indian or Alaska Native\")\n",
    "        & (df[\"hispanic_origin\"] == \"Not Hispanic or Latino\")\n",
    "    ),\n",
    "    (df[\"hispanic_origin\"] == \"Hispanic or Latino\")\n",
    "    & (df[\"notes\"] != \"Total\")\n",
    "    & ~df[\"race\"].isna(),\n",
    "    (df[\"race\"].isna()) & (df[\"hispanic_origin\"].isna()) & (df[\"notes\"] != \"Total\"),\n",
    "]\n",
    "\n",
    "race_ho_values = [\n",
    "    \"White\",\n",
    "    \"Black\",\n",
    "    \"AAPI\",\n",
    "    \"American Indian or Alaska Native\",\n",
    "    \"Hispanic or Latino\",\n",
    "    \"Overall\",\n",
    "]\n",
    "\n",
    "df[\"race_whispanicorigin\"] = np.select(race_ho_conditions, race_ho_values)"
   ]
  },
  {
   "cell_type": "markdown",
   "id": "1f650c82-739a-4615-b473-df72e5dfb935",
   "metadata": {
    "tags": []
   },
   "source": [
    "### Natality\n",
    "#### Now 2007-2019"
   ]
  },
  {
   "cell_type": "code",
   "execution_count": 20,
   "id": "ae2fe8d5-dd91-41de-8f2e-a7d19fec0527",
   "metadata": {},
   "outputs": [],
   "source": [
    "natality_year_race = pd.read_table(\n",
    "    \"data/raw/natality_byrace_year.txt\", dtype={\"Year\": str}\n",
    ").drop(\n",
    "    columns=[\"Year Code\", \"Mother's Hispanic Origin Code\", \"Mother's Single Race Code\"]\n",
    ")"
   ]
  },
  {
   "cell_type": "code",
   "execution_count": 21,
   "id": "6aafdaac-f42d-4f23-89a0-d7b49b679c31",
   "metadata": {},
   "outputs": [],
   "source": [
    "natality_year_race = natality_year_race[~natality_year_race[\"Births\"].isna()]"
   ]
  },
  {
   "cell_type": "code",
   "execution_count": 22,
   "id": "6b92bfd9-553a-4484-aed5-8e861ffc39b9",
   "metadata": {},
   "outputs": [],
   "source": [
    "natality_year_race.columns = (\n",
    "    natality_year_race.columns.str.lower().str.replace(\" \", \"_\").str.replace(\"'\", \"\")\n",
    ")"
   ]
  },
  {
   "cell_type": "code",
   "execution_count": 24,
   "id": "1432b7dd-747d-4bc5-b4f2-a5fa6f41a311",
   "metadata": {},
   "outputs": [
    {
     "data": {
      "text/plain": [
       "Index(['notes', 'year', 'mothers_single_race', 'mothers_hispanic_origin',\n",
       "       'births'],\n",
       "      dtype='object')"
      ]
     },
     "execution_count": 24,
     "metadata": {},
     "output_type": "execute_result"
    }
   ],
   "source": [
    "natality_year_race.columns"
   ]
  },
  {
   "cell_type": "code",
   "execution_count": 25,
   "id": "2fb4b079-6991-456a-9f54-d3743830f4f3",
   "metadata": {},
   "outputs": [],
   "source": [
    "birth_conditions = [\n",
    "    (\n",
    "        (natality_year_race[\"mothers_single_race\"] == \"White\")\n",
    "        & (natality_year_race[\"mothers_hispanic_origin\"] == \"Not Hispanic or Latino\")\n",
    "        & (natality_year_race[\"notes\"] != \"Total\")\n",
    "    ),\n",
    "    (\n",
    "        (natality_year_race[\"mothers_single_race\"] == \"Black or African American\")\n",
    "        & (natality_year_race[\"mothers_hispanic_origin\"] == \"Not Hispanic or Latino\")\n",
    "        & (natality_year_race[\"notes\"] != \"Total\")\n",
    "    ),\n",
    "    (\n",
    "        (natality_year_race[\"mothers_single_race\"] == \"Asian or Pacific Islander\")\n",
    "        & (natality_year_race[\"mothers_hispanic_origin\"] == \"Not Hispanic or Latino\")\n",
    "        & (natality_year_race[\"notes\"] != \"Total\")\n",
    "    ),\n",
    "    (\n",
    "        (\n",
    "            natality_year_race[\"mothers_single_race\"]\n",
    "            == \"American Indian or Alaska Native\"\n",
    "        )\n",
    "        & (natality_year_race[\"mothers_hispanic_origin\"] == \"Not Hispanic or Latino\")\n",
    "        & (natality_year_race[\"notes\"] != \"Total\")\n",
    "    ),\n",
    "    (\n",
    "        (natality_year_race[\"mothers_hispanic_origin\"] == \"Hispanic or Latino\")\n",
    "        & (natality_year_race[\"notes\"] != \"Total\")\n",
    "    ),\n",
    "]\n",
    "\n",
    "birth_values = [\n",
    "    \"White\",\n",
    "    \"Black\",\n",
    "    \"AAPI\",\n",
    "    \"American Indian or Alaska Native\",\n",
    "    \"Hispanic or Latino\",\n",
    "]\n",
    "\n",
    "natality_year_race[\"race_whispanicorigin\"] = np.select(birth_conditions, birth_values)"
   ]
  },
  {
   "cell_type": "code",
   "execution_count": 26,
   "id": "39650737-d6a2-462b-a6d1-f125860d40da",
   "metadata": {},
   "outputs": [],
   "source": [
    "birth_year_df = (\n",
    "    natality_year_race[natality_year_race[\"race_whispanicorigin\"] != \"0\"]\n",
    "    .groupby([\"year\", \"race_whispanicorigin\"])\n",
    "    .agg(total_births=pd.NamedAgg(column=\"births\", aggfunc=sum))\n",
    "    .reset_index()\n",
    ")"
   ]
  },
  {
   "cell_type": "code",
   "execution_count": 27,
   "id": "8887bf46-2e90-4474-9ba7-52526cc7fca7",
   "metadata": {},
   "outputs": [],
   "source": [
    "rates_cause_year_race = df.merge(birth_year_df, on=[\"year\", \"race_whispanicorigin\"])"
   ]
  },
  {
   "cell_type": "code",
   "execution_count": 28,
   "id": "2372c09b-c743-4d1d-99f6-3ebd7e24f403",
   "metadata": {},
   "outputs": [],
   "source": [
    "rates_cause_year_race[\"rate\"] = 100000 * (\n",
    "    rates_cause_year_race[\"deaths\"] / rates_cause_year_race[\"total_births\"]\n",
    ")"
   ]
  },
  {
   "cell_type": "code",
   "execution_count": 29,
   "id": "d06fbe17-056c-44de-9ad1-ea94bab8efff",
   "metadata": {},
   "outputs": [],
   "source": [
    "top5_byrace = (\n",
    "    rates_cause_year_race[~rates_cause_year_race[\"cause_of_death_code\"].isna()]\n",
    "    .sort_values([\"year\", \"rate\"], ascending=False)\n",
    "    .groupby([\"year\", \"race_whispanicorigin\"])\n",
    "    .head(5)\n",
    "    .drop(\n",
    "        columns=[\n",
    "            \"notes\",\n",
    "            \"population\",\n",
    "            \"race\",\n",
    "            \"race_code\",\n",
    "            \"hispanic_origin\",\n",
    "            \"hispanic_origin_code\",\n",
    "            \"crude_rate\",\n",
    "            \"total_births\",\n",
    "            \"deaths\",\n",
    "        ]\n",
    "    )\n",
    ")"
   ]
  },
  {
   "cell_type": "code",
   "execution_count": 30,
   "id": "3221d614-b16d-4b43-94bd-f884def84ad9",
   "metadata": {},
   "outputs": [
    {
     "data": {
      "text/html": [
       "\n",
       "<div id=\"altair-viz-b26a0b1deb61472ead8d1f5d89256d7c\"></div>\n",
       "<script type=\"text/javascript\">\n",
       "  var VEGA_DEBUG = (typeof VEGA_DEBUG == \"undefined\") ? {} : VEGA_DEBUG;\n",
       "  (function(spec, embedOpt){\n",
       "    let outputDiv = document.currentScript.previousElementSibling;\n",
       "    if (outputDiv.id !== \"altair-viz-b26a0b1deb61472ead8d1f5d89256d7c\") {\n",
       "      outputDiv = document.getElementById(\"altair-viz-b26a0b1deb61472ead8d1f5d89256d7c\");\n",
       "    }\n",
       "    const paths = {\n",
       "      \"vega\": \"https://cdn.jsdelivr.net/npm//vega@5?noext\",\n",
       "      \"vega-lib\": \"https://cdn.jsdelivr.net/npm//vega-lib?noext\",\n",
       "      \"vega-lite\": \"https://cdn.jsdelivr.net/npm//vega-lite@4.17.0?noext\",\n",
       "      \"vega-embed\": \"https://cdn.jsdelivr.net/npm//vega-embed@6?noext\",\n",
       "    };\n",
       "\n",
       "    function maybeLoadScript(lib, version) {\n",
       "      var key = `${lib.replace(\"-\", \"\")}_version`;\n",
       "      return (VEGA_DEBUG[key] == version) ?\n",
       "        Promise.resolve(paths[lib]) :\n",
       "        new Promise(function(resolve, reject) {\n",
       "          var s = document.createElement('script');\n",
       "          document.getElementsByTagName(\"head\")[0].appendChild(s);\n",
       "          s.async = true;\n",
       "          s.onload = () => {\n",
       "            VEGA_DEBUG[key] = version;\n",
       "            return resolve(paths[lib]);\n",
       "          };\n",
       "          s.onerror = () => reject(`Error loading script: ${paths[lib]}`);\n",
       "          s.src = paths[lib];\n",
       "        });\n",
       "    }\n",
       "\n",
       "    function showError(err) {\n",
       "      outputDiv.innerHTML = `<div class=\"error\" style=\"color:red;\">${err}</div>`;\n",
       "      throw err;\n",
       "    }\n",
       "\n",
       "    function displayChart(vegaEmbed) {\n",
       "      vegaEmbed(outputDiv, spec, embedOpt)\n",
       "        .catch(err => showError(`Javascript Error: ${err.message}<br>This usually means there's a typo in your chart specification. See the javascript console for the full traceback.`));\n",
       "    }\n",
       "\n",
       "    if(typeof define === \"function\" && define.amd) {\n",
       "      requirejs.config({paths});\n",
       "      require([\"vega-embed\"], displayChart, err => showError(`Error loading script: ${err.message}`));\n",
       "    } else {\n",
       "      maybeLoadScript(\"vega\", \"5\")\n",
       "        .then(() => maybeLoadScript(\"vega-lite\", \"4.17.0\"))\n",
       "        .then(() => maybeLoadScript(\"vega-embed\", \"6\"))\n",
       "        .catch(showError)\n",
       "        .then(() => displayChart(vegaEmbed));\n",
       "    }\n",
       "  })({\"config\": {\"view\": {\"continuousWidth\": 400, \"continuousHeight\": 300}}, \"data\": {\"name\": \"data-c1c7ebe30036d00a737854a09d38b5bc\"}, \"facet\": {\"field\": \"race_whispanicorigin\", \"type\": \"nominal\"}, \"spec\": {\"layer\": [{\"mark\": {\"type\": \"line\", \"point\": true}, \"encoding\": {\"color\": {\"field\": \"cause_of_death\", \"type\": \"nominal\"}, \"x\": {\"field\": \"year\", \"type\": \"ordinal\"}, \"y\": {\"field\": \"rate\", \"type\": \"quantitative\"}}, \"height\": 200, \"width\": 100}]}, \"$schema\": \"https://vega.github.io/schema/vega-lite/v4.17.0.json\", \"datasets\": {\"data-c1c7ebe30036d00a737854a09d38b5bc\": [{\"year\": \"2020\", \"cause_of_death\": \"Death from direct obstetric cause occurring more than 42 days but less than one year after delivery\", \"cause_of_death_code\": \"O96.0\", \"race_whispanicorigin\": \"American Indian or Alaska Native\", \"rate\": 22.377205087084622}, {\"year\": \"2020\", \"cause_of_death\": \"Other specified pregnancy-related conditions\", \"cause_of_death_code\": \"O26.8\", \"race_whispanicorigin\": \"American Indian or Alaska Native\", \"rate\": 18.64767090590385}, {\"year\": \"2020\", \"cause_of_death\": \"Other specified pregnancy-related conditions\", \"cause_of_death_code\": \"O26.8\", \"race_whispanicorigin\": \"Black\", \"rate\": 15.665963900334269}, {\"year\": \"2020\", \"cause_of_death\": \"Death from direct obstetric cause occurring more than 42 days but less than one year after delivery\", \"cause_of_death_code\": \"O96.0\", \"race_whispanicorigin\": \"Black\", \"rate\": 14.722231135253894}, {\"year\": \"2020\", \"cause_of_death\": \"Diseases of the circulatory system complicating pregnancy, childbirth and the puerperium\", \"cause_of_death_code\": \"O99.4\", \"race_whispanicorigin\": \"American Indian or Alaska Native\", \"rate\": 11.188602543542311}, {\"year\": \"2020\", \"cause_of_death\": \"Death from indirect obstetric cause occurring more than 42 days but less than one year after delivery\", \"cause_of_death_code\": \"O96.1\", \"race_whispanicorigin\": \"Black\", \"rate\": 8.4935948857234}, {\"year\": \"2020\", \"cause_of_death\": \"Death from indirect obstetric cause occurring more than 42 days but less than one year after delivery\", \"cause_of_death_code\": \"O96.1\", \"race_whispanicorigin\": \"American Indian or Alaska Native\", \"rate\": 7.459068362361541}, {\"year\": \"2020\", \"cause_of_death\": \"Other specified diseases and conditions complicating pregnancy, childbirth and the puerperium\", \"cause_of_death_code\": \"O99.8\", \"race_whispanicorigin\": \"American Indian or Alaska Native\", \"rate\": 7.459068362361541}, {\"year\": \"2020\", \"cause_of_death\": \"Diseases of the circulatory system complicating pregnancy, childbirth and the puerperium\", \"cause_of_death_code\": \"O99.4\", \"race_whispanicorigin\": \"Black\", \"rate\": 6.039889696514417}, {\"year\": \"2020\", \"cause_of_death\": \"Other specified diseases and conditions complicating pregnancy, childbirth and the puerperium\", \"cause_of_death_code\": \"O99.8\", \"race_whispanicorigin\": \"Black\", \"rate\": 5.2849034844501155}, {\"year\": \"2020\", \"cause_of_death\": \"Other specified pregnancy-related conditions\", \"cause_of_death_code\": \"O26.8\", \"race_whispanicorigin\": \"White\", \"rate\": 5.04493792014026}, {\"year\": \"2020\", \"cause_of_death\": \"Death from direct obstetric cause occurring more than 42 days but less than one year after delivery\", \"cause_of_death_code\": \"O96.0\", \"race_whispanicorigin\": \"White\", \"rate\": 4.773704698627343}, {\"year\": \"2020\", \"cause_of_death\": \"Other specified pregnancy-related conditions\", \"cause_of_death_code\": \"O26.8\", \"race_whispanicorigin\": \"Hispanic or Latino\", \"rate\": 4.730516330088507}, {\"year\": \"2020\", \"cause_of_death\": \"Death from direct obstetric cause occurring more than 42 days but less than one year after delivery\", \"cause_of_death_code\": \"O96.0\", \"race_whispanicorigin\": \"Hispanic or Latino\", \"rate\": 4.730516330088507}, {\"year\": \"2020\", \"cause_of_death\": \"Death from indirect obstetric cause occurring more than 42 days but less than one year after delivery\", \"cause_of_death_code\": \"O96.1\", \"race_whispanicorigin\": \"White\", \"rate\": 4.176991611298925}, {\"year\": \"2020\", \"cause_of_death\": \"Death from indirect obstetric cause occurring more than 42 days but less than one year after delivery\", \"cause_of_death_code\": \"O96.1\", \"race_whispanicorigin\": \"Hispanic or Latino\", \"rate\": 4.1536240947118594}, {\"year\": \"2020\", \"cause_of_death\": \"Other specified diseases and conditions complicating pregnancy, childbirth and the puerperium\", \"cause_of_death_code\": \"O99.8\", \"race_whispanicorigin\": \"White\", \"rate\": 2.6580855708265885}, {\"year\": \"2020\", \"cause_of_death\": \"Diseases of the circulatory system complicating pregnancy, childbirth and the puerperium\", \"cause_of_death_code\": \"O99.4\", \"race_whispanicorigin\": \"White\", \"rate\": 2.441098993616255}, {\"year\": \"2020\", \"cause_of_death\": \"Other specified diseases and conditions complicating pregnancy, childbirth and the puerperium\", \"cause_of_death_code\": \"O99.8\", \"race_whispanicorigin\": \"Hispanic or Latino\", \"rate\": 1.2691629178286237}, {\"year\": \"2020\", \"cause_of_death\": \"Pre-existing hypertensive heart disease complicating pregnancy, childbirth and the puerperium\", \"cause_of_death_code\": \"O10.1\", \"race_whispanicorigin\": \"Hispanic or Latino\", \"rate\": 1.0384060236779649}, {\"year\": \"2019\", \"cause_of_death\": \"Other specified pregnancy-related conditions\", \"cause_of_death_code\": \"O26.8\", \"race_whispanicorigin\": \"American Indian or Alaska Native\", \"rate\": 28.1195079086116}, {\"year\": \"2019\", \"cause_of_death\": \"Death from direct obstetric cause occurring more than 42 days but less than one year after delivery\", \"cause_of_death_code\": \"O96.0\", \"race_whispanicorigin\": \"American Indian or Alaska Native\", \"rate\": 14.0597539543058}, {\"year\": \"2019\", \"cause_of_death\": \"Death from direct obstetric cause occurring more than 42 days but less than one year after delivery\", \"cause_of_death_code\": \"O96.0\", \"race_whispanicorigin\": \"Black\", \"rate\": 13.684258541258039}, {\"year\": \"2019\", \"cause_of_death\": \"Other specified pregnancy-related conditions\", \"cause_of_death_code\": \"O26.8\", \"race_whispanicorigin\": \"Black\", \"rate\": 10.40003649135611}, {\"year\": \"2019\", \"cause_of_death\": \"Death from indirect obstetric cause occurring more than 42 days but less than one year after delivery\", \"cause_of_death_code\": \"O96.1\", \"race_whispanicorigin\": \"American Indian or Alaska Native\", \"rate\": 7.0298769771529}, {\"year\": \"2019\", \"cause_of_death\": \"Death from sequelae of direct obstetric cause\", \"cause_of_death_code\": \"O97.0\", \"race_whispanicorigin\": \"American Indian or Alaska Native\", \"rate\": 7.0298769771529}, {\"year\": \"2019\", \"cause_of_death\": \"Death from indirect obstetric cause occurring more than 42 days but less than one year after delivery\", \"cause_of_death_code\": \"O96.1\", \"race_whispanicorigin\": \"Black\", \"rate\": 6.568444099803859}, {\"year\": \"2019\", \"cause_of_death\": \"Diseases of the circulatory system complicating pregnancy, childbirth and the puerperium\", \"cause_of_death_code\": \"O99.4\", \"race_whispanicorigin\": \"Black\", \"rate\": 4.561419513752679}, {\"year\": \"2019\", \"cause_of_death\": \"Other specified diseases and conditions complicating pregnancy, childbirth and the puerperium\", \"cause_of_death_code\": \"O99.8\", \"race_whispanicorigin\": \"Black\", \"rate\": 4.561419513752679}, {\"year\": \"2019\", \"cause_of_death\": \"Other specified pregnancy-related conditions\", \"cause_of_death_code\": \"O26.8\", \"race_whispanicorigin\": \"White\", \"rate\": 4.227751587755596}, {\"year\": \"2019\", \"cause_of_death\": \"Unspecified abortion, complete or unspecified, with other and unspecified complications\", \"cause_of_death_code\": \"O06.8\", \"race_whispanicorigin\": \"American Indian or Alaska Native\", \"rate\": 3.51493848857645}, {\"year\": \"2019\", \"cause_of_death\": \"Death from direct obstetric cause occurring more than 42 days but less than one year after delivery\", \"cause_of_death_code\": \"O96.0\", \"race_whispanicorigin\": \"Hispanic or Latino\", \"rate\": 3.4970280901601525}, {\"year\": \"2019\", \"cause_of_death\": \"Death from indirect obstetric cause occurring more than 42 days but less than one year after delivery\", \"cause_of_death_code\": \"O96.1\", \"race_whispanicorigin\": \"White\", \"rate\": 3.2882512349210193}, {\"year\": \"2019\", \"cause_of_death\": \"Death from direct obstetric cause occurring more than 42 days but less than one year after delivery\", \"cause_of_death_code\": \"O96.0\", \"race_whispanicorigin\": \"White\", \"rate\": 3.236056770874654}, {\"year\": \"2019\", \"cause_of_death\": \"Other specified diseases and conditions complicating pregnancy, childbirth and the puerperium\", \"cause_of_death_code\": \"O99.8\", \"race_whispanicorigin\": \"White\", \"rate\": 2.661917666364635}, {\"year\": \"2019\", \"cause_of_death\": \"Death from indirect obstetric cause occurring more than 42 days but less than one year after delivery\", \"cause_of_death_code\": \"O96.1\", \"race_whispanicorigin\": \"Hispanic or Latino\", \"rate\": 2.4817618704362374}, {\"year\": \"2019\", \"cause_of_death\": \"Other specified pregnancy-related conditions\", \"cause_of_death_code\": \"O26.8\", \"race_whispanicorigin\": \"Hispanic or Latino\", \"rate\": 2.0305324394478306}, {\"year\": \"2019\", \"cause_of_death\": \"Other specified diseases and conditions complicating pregnancy, childbirth and the puerperium\", \"cause_of_death_code\": \"O99.8\", \"race_whispanicorigin\": \"Hispanic or Latino\", \"rate\": 1.8049177239536274}, {\"year\": \"2019\", \"cause_of_death\": \"Diseases of the circulatory system complicating pregnancy, childbirth and the puerperium\", \"cause_of_death_code\": \"O99.4\", \"race_whispanicorigin\": \"White\", \"rate\": 1.7746117775764232}, {\"year\": \"2019\", \"cause_of_death\": \"Diseases of the circulatory system complicating pregnancy, childbirth and the puerperium\", \"cause_of_death_code\": \"O99.4\", \"race_whispanicorigin\": \"Hispanic or Latino\", \"rate\": 0.9024588619768137}, {\"year\": \"2018\", \"cause_of_death\": \"Other specified pregnancy-related conditions\", \"cause_of_death_code\": \"O26.8\", \"race_whispanicorigin\": \"American Indian or Alaska Native\", \"rate\": 13.749484394335212}, {\"year\": \"2018\", \"cause_of_death\": \"Death from indirect obstetric cause occurring more than 42 days but less than one year after delivery\", \"cause_of_death_code\": \"O96.1\", \"race_whispanicorigin\": \"American Indian or Alaska Native\", \"rate\": 13.749484394335212}, {\"year\": \"2018\", \"cause_of_death\": \"Other specified pregnancy-related conditions\", \"cause_of_death_code\": \"O26.8\", \"race_whispanicorigin\": \"Black\", \"rate\": 9.238645071182853}, {\"year\": \"2018\", \"cause_of_death\": \"Death from direct obstetric cause occurring more than 42 days but less than one year after delivery\", \"cause_of_death_code\": \"O96.0\", \"race_whispanicorigin\": \"Black\", \"rate\": 7.064846230904536}, {\"year\": \"2018\", \"cause_of_death\": \"Liver disorders in pregnancy, childbirth and the puerperium\", \"cause_of_death_code\": \"O26.6\", \"race_whispanicorigin\": \"American Indian or Alaska Native\", \"rate\": 6.874742197167606}, {\"year\": \"2018\", \"cause_of_death\": \"Death from direct obstetric cause occurring more than 42 days but less than one year after delivery\", \"cause_of_death_code\": \"O96.0\", \"race_whispanicorigin\": \"American Indian or Alaska Native\", \"rate\": 6.874742197167606}, {\"year\": \"2018\", \"cause_of_death\": \"Death from indirect obstetric cause occurring more than 42 days but less than one year after delivery\", \"cause_of_death_code\": \"O96.1\", \"race_whispanicorigin\": \"Black\", \"rate\": 6.521396520834957}, {\"year\": \"2018\", \"cause_of_death\": \"Other specified pregnancy-related conditions\", \"cause_of_death_code\": \"O26.8\", \"race_whispanicorigin\": \"White\", \"rate\": 4.498027768165515}, {\"year\": \"2018\", \"cause_of_death\": \"Death from indirect obstetric cause occurring more than 42 days but less than one year after delivery\", \"cause_of_death_code\": \"O96.1\", \"race_whispanicorigin\": \"White\", \"rate\": 3.833546393322882}, {\"year\": \"2018\", \"cause_of_death\": \"Other specified diseases and conditions complicating pregnancy, childbirth and the puerperium\", \"cause_of_death_code\": \"O99.8\", \"race_whispanicorigin\": \"Black\", \"rate\": 3.6229980671305313}, {\"year\": \"2018\", \"cause_of_death\": \"Other specified pregnancy-related conditions\", \"cause_of_death_code\": \"O26.8\", \"race_whispanicorigin\": \"Hispanic or Latino\", \"rate\": 3.498042224754855}, {\"year\": \"2018\", \"cause_of_death\": \"Death from sequelae of direct obstetric cause\", \"cause_of_death_code\": \"O97.0\", \"race_whispanicorigin\": \"American Indian or Alaska Native\", \"rate\": 3.437371098583803}, {\"year\": \"2018\", \"cause_of_death\": \"Death from direct obstetric cause occurring more than 42 days but less than one year after delivery\", \"cause_of_death_code\": \"O96.0\", \"race_whispanicorigin\": \"White\", \"rate\": 3.117951066569278}, {\"year\": \"2018\", \"cause_of_death\": \"Diseases of the circulatory system complicating pregnancy, childbirth and the puerperium\", \"cause_of_death_code\": \"O99.4\", \"race_whispanicorigin\": \"Black\", \"rate\": 2.536098646991372}, {\"year\": \"2018\", \"cause_of_death\": \"Death from direct obstetric cause occurring more than 42 days but less than one year after delivery\", \"cause_of_death_code\": \"O96.0\", \"race_whispanicorigin\": \"Hispanic or Latino\", \"rate\": 2.143961363559427}, {\"year\": \"2018\", \"cause_of_death\": \"Death from indirect obstetric cause occurring more than 42 days but less than one year after delivery\", \"cause_of_death_code\": \"O96.1\", \"race_whispanicorigin\": \"Hispanic or Latino\", \"rate\": 2.031121291793142}, {\"year\": \"2018\", \"cause_of_death\": \"Other specified diseases and conditions complicating pregnancy, childbirth and the puerperium\", \"cause_of_death_code\": \"O99.8\", \"race_whispanicorigin\": \"White\", \"rate\": 1.4823046054181812}, {\"year\": \"2018\", \"cause_of_death\": \"Other specified diseases and conditions complicating pregnancy, childbirth and the puerperium\", \"cause_of_death_code\": \"O99.8\", \"race_whispanicorigin\": \"Hispanic or Latino\", \"rate\": 1.241240789429142}, {\"year\": \"2018\", \"cause_of_death\": \"Diseases of the circulatory system complicating pregnancy, childbirth and the puerperium\", \"cause_of_death_code\": \"O99.4\", \"race_whispanicorigin\": \"White\", \"rate\": 1.1245069420413787}, {\"year\": \"2018\", \"cause_of_death\": \"Amniotic fluid embolism\", \"cause_of_death_code\": \"O88.1\", \"race_whispanicorigin\": \"Hispanic or Latino\", \"rate\": 0.5642003588314283}, {\"year\": \"2017\", \"cause_of_death\": \"Other specified pregnancy-related conditions\", \"cause_of_death_code\": \"O26.8\", \"race_whispanicorigin\": \"Black\", \"rate\": 14.624185192120775}, {\"year\": \"2017\", \"cause_of_death\": \"Other specified pregnancy-related conditions\", \"cause_of_death_code\": \"O26.8\", \"race_whispanicorigin\": \"American Indian or Alaska Native\", \"rate\": 10.014353907267083}, {\"year\": \"2017\", \"cause_of_death\": \"Death from direct obstetric cause occurring more than 42 days but less than one year after delivery\", \"cause_of_death_code\": \"O96.0\", \"race_whispanicorigin\": \"Black\", \"rate\": 9.630560980177094}, {\"year\": \"2017\", \"cause_of_death\": \"Death from indirect obstetric cause occurring more than 42 days but less than one year after delivery\", \"cause_of_death_code\": \"O96.1\", \"race_whispanicorigin\": \"Black\", \"rate\": 8.025467483480913}, {\"year\": \"2017\", \"cause_of_death\": \"Other immediate postpartum haemorrhage\", \"cause_of_death_code\": \"O72.1\", \"race_whispanicorigin\": \"American Indian or Alaska Native\", \"rate\": 6.676235938178055}, {\"year\": \"2017\", \"cause_of_death\": \"Cardiomyopathy in the puerperium\", \"cause_of_death_code\": \"O90.3\", \"race_whispanicorigin\": \"American Indian or Alaska Native\", \"rate\": 6.676235938178055}, {\"year\": \"2017\", \"cause_of_death\": \"Death from indirect obstetric cause occurring more than 42 days but less than one year after delivery\", \"cause_of_death_code\": \"O96.1\", \"race_whispanicorigin\": \"American Indian or Alaska Native\", \"rate\": 6.676235938178055}, {\"year\": \"2017\", \"cause_of_death\": \"Other specified diseases and conditions complicating pregnancy, childbirth and the puerperium\", \"cause_of_death_code\": \"O99.8\", \"race_whispanicorigin\": \"American Indian or Alaska Native\", \"rate\": 6.676235938178055}, {\"year\": \"2017\", \"cause_of_death\": \"Other specified pregnancy-related conditions\", \"cause_of_death_code\": \"O26.8\", \"race_whispanicorigin\": \"White\", \"rate\": 5.018918814471149}, {\"year\": \"2017\", \"cause_of_death\": \"Other specified diseases and conditions complicating pregnancy, childbirth and the puerperium\", \"cause_of_death_code\": \"O99.8\", \"race_whispanicorigin\": \"Black\", \"rate\": 4.636936768233416}, {\"year\": \"2017\", \"cause_of_death\": \"Other specified pregnancy-related conditions\", \"cause_of_death_code\": \"O26.8\", \"race_whispanicorigin\": \"Hispanic or Latino\", \"rate\": 4.561820455647979}, {\"year\": \"2017\", \"cause_of_death\": \"Diseases of the circulatory system complicating pregnancy, childbirth and the puerperium\", \"cause_of_death_code\": \"O99.4\", \"race_whispanicorigin\": \"Black\", \"rate\": 4.101905602668022}, {\"year\": \"2017\", \"cause_of_death\": \"Death from direct obstetric cause occurring more than 42 days but less than one year after delivery\", \"cause_of_death_code\": \"O96.0\", \"race_whispanicorigin\": \"Hispanic or Latino\", \"rate\": 4.00550088788603}, {\"year\": \"2017\", \"cause_of_death\": \"Death from indirect obstetric cause occurring more than 42 days but less than one year after delivery\", \"cause_of_death_code\": \"O96.1\", \"race_whispanicorigin\": \"White\", \"rate\": 3.814378298998073}, {\"year\": \"2017\", \"cause_of_death\": \"Death from direct obstetric cause occurring more than 42 days but less than one year after delivery\", \"cause_of_death_code\": \"O96.0\", \"race_whispanicorigin\": \"White\", \"rate\": 3.7641891108533616}, {\"year\": \"2017\", \"cause_of_death\": \"Other specified diseases and conditions complicating pregnancy, childbirth and the puerperium\", \"cause_of_death_code\": \"O99.8\", \"race_whispanicorigin\": \"White\", \"rate\": 3.061540476827401}, {\"year\": \"2017\", \"cause_of_death\": \"Death from indirect obstetric cause occurring more than 42 days but less than one year after delivery\", \"cause_of_death_code\": \"O96.1\", \"race_whispanicorigin\": \"Hispanic or Latino\", \"rate\": 2.892861752362133}, {\"year\": \"2017\", \"cause_of_death\": \"Diseases of the circulatory system complicating pregnancy, childbirth and the puerperium\", \"cause_of_death_code\": \"O99.4\", \"race_whispanicorigin\": \"White\", \"rate\": 1.8068107732096137}, {\"year\": \"2017\", \"cause_of_death\": \"Other specified diseases and conditions complicating pregnancy, childbirth and the puerperium\", \"cause_of_death_code\": \"O99.8\", \"race_whispanicorigin\": \"Hispanic or Latino\", \"rate\": 1.4464308761810665}, {\"year\": \"2017\", \"cause_of_death\": \"Liver disorders in pregnancy, childbirth and the puerperium\", \"cause_of_death_code\": \"O26.6\", \"race_whispanicorigin\": \"Hispanic or Latino\", \"rate\": 1.223903049076287}, {\"year\": \"2016\", \"cause_of_death\": \"Other specified pregnancy-related conditions\", \"cause_of_death_code\": \"O26.8\", \"race_whispanicorigin\": \"Black\", \"rate\": 14.678977913508598}, {\"year\": \"2016\", \"cause_of_death\": \"Death from indirect obstetric cause occurring more than 42 days but less than one year after delivery\", \"cause_of_death_code\": \"O96.1\", \"race_whispanicorigin\": \"Black\", \"rate\": 8.592572437175765}, {\"year\": \"2016\", \"cause_of_death\": \"Death from direct obstetric cause occurring more than 42 days but less than one year after delivery\", \"cause_of_death_code\": \"O96.0\", \"race_whispanicorigin\": \"Black\", \"rate\": 8.41356051140127}, {\"year\": \"2016\", \"cause_of_death\": \"Death from direct obstetric cause occurring more than 42 days but less than one year after delivery\", \"cause_of_death_code\": \"O96.0\", \"race_whispanicorigin\": \"American Indian or Alaska Native\", \"rate\": 6.358896095637798}, {\"year\": \"2016\", \"cause_of_death\": \"Death from unspecified obstetric cause occurring more than 42 days but less than one year after delivery\", \"cause_of_death_code\": \"O96.9\", \"race_whispanicorigin\": \"American Indian or Alaska Native\", \"rate\": 6.358896095637798}, {\"year\": \"2016\", \"cause_of_death\": \"Other specified diseases and conditions complicating pregnancy, childbirth and the puerperium\", \"cause_of_death_code\": \"O99.8\", \"race_whispanicorigin\": \"American Indian or Alaska Native\", \"rate\": 6.358896095637798}, {\"year\": \"2016\", \"cause_of_death\": \"Other specified pregnancy-related conditions\", \"cause_of_death_code\": \"O26.8\", \"race_whispanicorigin\": \"White\", \"rate\": 5.300700470546585}, {\"year\": \"2016\", \"cause_of_death\": \"Other specified diseases and conditions complicating pregnancy, childbirth and the puerperium\", \"cause_of_death_code\": \"O99.8\", \"race_whispanicorigin\": \"Black\", \"rate\": 5.191345847460358}, {\"year\": \"2016\", \"cause_of_death\": \"Diseases of the circulatory system complicating pregnancy, childbirth and the puerperium\", \"cause_of_death_code\": \"O99.4\", \"race_whispanicorigin\": \"Black\", \"rate\": 4.654310070136872}, {\"year\": \"2016\", \"cause_of_death\": \"Other specified pregnancy-related conditions\", \"cause_of_death_code\": \"O26.8\", \"race_whispanicorigin\": \"Hispanic or Latino\", \"rate\": 4.464057261877931}, {\"year\": \"2016\", \"cause_of_death\": \"Other specified diseases and conditions complicating pregnancy, childbirth and the puerperium\", \"cause_of_death_code\": \"O99.8\", \"race_whispanicorigin\": \"White\", \"rate\": 4.0363132023428125}, {\"year\": \"2016\", \"cause_of_death\": \"Death from indirect obstetric cause occurring more than 42 days but less than one year after delivery\", \"cause_of_death_code\": \"O96.1\", \"race_whispanicorigin\": \"White\", \"rate\": 3.9876829227965134}, {\"year\": \"2016\", \"cause_of_death\": \"Death from direct obstetric cause occurring more than 42 days but less than one year after delivery\", \"cause_of_death_code\": \"O96.0\", \"race_whispanicorigin\": \"White\", \"rate\": 3.6472709659724205}, {\"year\": \"2016\", \"cause_of_death\": \"Tubal pregnancy\", \"cause_of_death_code\": \"O00.1\", \"race_whispanicorigin\": \"American Indian or Alaska Native\", \"rate\": 3.179448047818899}, {\"year\": \"2016\", \"cause_of_death\": \"Diabetes mellitus in pregnancy, unspecified\", \"cause_of_death_code\": \"O24.9\", \"race_whispanicorigin\": \"American Indian or Alaska Native\", \"rate\": 3.179448047818899}, {\"year\": \"2016\", \"cause_of_death\": \"Death from indirect obstetric cause occurring more than 42 days but less than one year after delivery\", \"cause_of_death_code\": \"O96.1\", \"race_whispanicorigin\": \"Hispanic or Latino\", \"rate\": 3.1575039169380488}, {\"year\": \"2016\", \"cause_of_death\": \"Death from direct obstetric cause occurring more than 42 days but less than one year after delivery\", \"cause_of_death_code\": \"O96.0\", \"race_whispanicorigin\": \"Hispanic or Latino\", \"rate\": 2.939745026114735}, {\"year\": \"2016\", \"cause_of_death\": \"Diseases of the circulatory system complicating pregnancy, childbirth and the puerperium\", \"cause_of_death_code\": \"O99.4\", \"race_whispanicorigin\": \"White\", \"rate\": 2.0911020204908546}, {\"year\": \"2016\", \"cause_of_death\": \"Other specified diseases and conditions complicating pregnancy, childbirth and the puerperium\", \"cause_of_death_code\": \"O99.8\", \"race_whispanicorigin\": \"Hispanic or Latino\", \"rate\": 1.524312235763196}, {\"year\": \"2016\", \"cause_of_death\": \"Other complications of obstetric surgery and procedures\", \"cause_of_death_code\": \"O75.4\", \"race_whispanicorigin\": \"Hispanic or Latino\", \"rate\": 0.5443972270582843}, {\"year\": \"2015\", \"cause_of_death\": \"Other specified pregnancy-related conditions\", \"cause_of_death_code\": \"O26.8\", \"race_whispanicorigin\": \"Hispanic or Latino\", \"rate\": 3.13836510657455}, {\"year\": \"2015\", \"cause_of_death\": \"Death from direct obstetric cause occurring more than 42 days but less than one year after delivery\", \"cause_of_death_code\": \"O96.0\", \"race_whispanicorigin\": \"Hispanic or Latino\", \"rate\": 3.13836510657455}, {\"year\": \"2015\", \"cause_of_death\": \"Death from indirect obstetric cause occurring more than 42 days but less than one year after delivery\", \"cause_of_death_code\": \"O96.1\", \"race_whispanicorigin\": \"Hispanic or Latino\", \"rate\": 2.3808287015393144}, {\"year\": \"2015\", \"cause_of_death\": \"Other specified diseases and conditions complicating pregnancy, childbirth and the puerperium\", \"cause_of_death_code\": \"O99.8\", \"race_whispanicorigin\": \"Hispanic or Latino\", \"rate\": 1.6232922965040777}, {\"year\": \"2015\", \"cause_of_death\": \"Diseases of the circulatory system complicating pregnancy, childbirth and the puerperium\", \"cause_of_death_code\": \"O99.4\", \"race_whispanicorigin\": \"Hispanic or Latino\", \"rate\": 1.2986338372032622}, {\"year\": \"2014\", \"cause_of_death\": \"Death from indirect obstetric cause occurring more than 42 days but less than one year after delivery\", \"cause_of_death_code\": \"O96.1\", \"race_whispanicorigin\": \"Hispanic or Latino\", \"rate\": 3.6102465360778497}, {\"year\": \"2014\", \"cause_of_death\": \"Other specified pregnancy-related conditions\", \"cause_of_death_code\": \"O26.8\", \"race_whispanicorigin\": \"Hispanic or Latino\", \"rate\": 3.500845125893673}, {\"year\": \"2014\", \"cause_of_death\": \"Death from direct obstetric cause occurring more than 42 days but less than one year after delivery\", \"cause_of_death_code\": \"O96.0\", \"race_whispanicorigin\": \"Hispanic or Latino\", \"rate\": 1.969225383315191}, {\"year\": \"2014\", \"cause_of_death\": \"Other specified diseases and conditions complicating pregnancy, childbirth and the puerperium\", \"cause_of_death_code\": \"O99.8\", \"race_whispanicorigin\": \"Hispanic or Latino\", \"rate\": 1.6410211527626593}, {\"year\": \"2014\", \"cause_of_death\": \"Diabetes mellitus in pregnancy, unspecified\", \"cause_of_death_code\": \"O24.9\", \"race_whispanicorigin\": \"Hispanic or Latino\", \"rate\": 0.9846126916575955}, {\"year\": \"2013\", \"cause_of_death\": \"Death from direct obstetric cause occurring more than 42 days but less than one year after delivery\", \"cause_of_death_code\": \"O96.0\", \"race_whispanicorigin\": \"Hispanic or Latino\", \"rate\": 2.6636094349485533}, {\"year\": \"2013\", \"cause_of_death\": \"Other specified pregnancy-related conditions\", \"cause_of_death_code\": \"O26.8\", \"race_whispanicorigin\": \"Hispanic or Latino\", \"rate\": 2.441641982036174}, {\"year\": \"2013\", \"cause_of_death\": \"Other specified diseases and conditions complicating pregnancy, childbirth and the puerperium\", \"cause_of_death_code\": \"O99.8\", \"race_whispanicorigin\": \"Hispanic or Latino\", \"rate\": 2.441641982036174}, {\"year\": \"2013\", \"cause_of_death\": \"Death from indirect obstetric cause occurring more than 42 days but less than one year after delivery\", \"cause_of_death_code\": \"O96.1\", \"race_whispanicorigin\": \"Hispanic or Latino\", \"rate\": 1.997707076211415}, {\"year\": \"2013\", \"cause_of_death\": \"Diseases of the circulatory system complicating pregnancy, childbirth and the puerperium\", \"cause_of_death_code\": \"O99.4\", \"race_whispanicorigin\": \"Hispanic or Latino\", \"rate\": 1.1098372645618975}, {\"year\": \"2012\", \"cause_of_death\": \"Other specified pregnancy-related conditions\", \"cause_of_death_code\": \"O26.8\", \"race_whispanicorigin\": \"Hispanic or Latino\", \"rate\": 3.0847977859965607}, {\"year\": \"2012\", \"cause_of_death\": \"Other specified diseases and conditions complicating pregnancy, childbirth and the puerperium\", \"cause_of_death_code\": \"O99.8\", \"race_whispanicorigin\": \"Hispanic or Latino\", \"rate\": 2.4237696889972975}, {\"year\": \"2012\", \"cause_of_death\": \"Death from indirect obstetric cause occurring more than 42 days but less than one year after delivery\", \"cause_of_death_code\": \"O96.1\", \"race_whispanicorigin\": \"Hispanic or Latino\", \"rate\": 2.093255640497666}, {\"year\": \"2012\", \"cause_of_death\": \"Diseases of the circulatory system complicating pregnancy, childbirth and the puerperium\", \"cause_of_death_code\": \"O99.4\", \"race_whispanicorigin\": \"Hispanic or Latino\", \"rate\": 1.432227543498403}, {\"year\": \"2012\", \"cause_of_death\": \"Death from direct obstetric cause occurring more than 42 days but less than one year after delivery\", \"cause_of_death_code\": \"O96.0\", \"race_whispanicorigin\": \"Hispanic or Latino\", \"rate\": 0.8813707959990172}, {\"year\": \"2011\", \"cause_of_death\": \"Other specified pregnancy-related conditions\", \"cause_of_death_code\": \"O26.8\", \"race_whispanicorigin\": \"Hispanic or Latino\", \"rate\": 2.3961774434747185}, {\"year\": \"2011\", \"cause_of_death\": \"Death from direct obstetric cause occurring more than 42 days but less than one year after delivery\", \"cause_of_death_code\": \"O96.0\", \"race_whispanicorigin\": \"Hispanic or Latino\", \"rate\": 1.7426745043452498}, {\"year\": \"2011\", \"cause_of_death\": \"Other specified diseases and conditions complicating pregnancy, childbirth and the puerperium\", \"cause_of_death_code\": \"O99.8\", \"race_whispanicorigin\": \"Hispanic or Latino\", \"rate\": 1.1980887217373593}, {\"year\": \"2011\", \"cause_of_death\": \"Death from indirect obstetric cause occurring more than 42 days but less than one year after delivery\", \"cause_of_death_code\": \"O96.1\", \"race_whispanicorigin\": \"Hispanic or Latino\", \"rate\": 0.7624200956510468}, {\"year\": \"2011\", \"cause_of_death\": \"Amniotic fluid embolism\", \"cause_of_death_code\": \"O88.1\", \"race_whispanicorigin\": \"Hispanic or Latino\", \"rate\": 0.6535029391294688}, {\"year\": \"2010\", \"cause_of_death\": \"Death from any obstetric cause occurring more than 42 days but less than one year after delivery\", \"cause_of_death_code\": \"O96\", \"race_whispanicorigin\": \"Hispanic or Latino\", \"rate\": 4.020398231024779}, {\"year\": \"2010\", \"cause_of_death\": \"Other specified pregnancy-related conditions\", \"cause_of_death_code\": \"O26.8\", \"race_whispanicorigin\": \"Hispanic or Latino\", \"rate\": 1.9043991620643688}, {\"year\": \"2010\", \"cause_of_death\": \"Diseases of the circulatory system complicating pregnancy, childbirth and the puerperium\", \"cause_of_death_code\": \"O99.4\", \"race_whispanicorigin\": \"Hispanic or Latino\", \"rate\": 1.1637994879282252}, {\"year\": \"2010\", \"cause_of_death\": \"Other specified diseases and conditions complicating pregnancy, childbirth and the puerperium\", \"cause_of_death_code\": \"O99.8\", \"race_whispanicorigin\": \"Hispanic or Latino\", \"rate\": 1.1637994879282252}, {\"year\": \"2010\", \"cause_of_death\": \"Obstetric death of unspecified cause\", \"cause_of_death_code\": \"O95\", \"race_whispanicorigin\": \"Hispanic or Latino\", \"rate\": 0.6347997206881228}, {\"year\": \"2009\", \"cause_of_death\": \"Death from any obstetric cause occurring more than 42 days but less than one year after delivery\", \"cause_of_death_code\": \"O96\", \"race_whispanicorigin\": \"Hispanic or Latino\", \"rate\": 7.9035724147314586}, {\"year\": \"2009\", \"cause_of_death\": \"Other specified pregnancy-related conditions\", \"cause_of_death_code\": \"O26.8\", \"race_whispanicorigin\": \"Hispanic or Latino\", \"rate\": 1.6007235270342193}, {\"year\": \"2009\", \"cause_of_death\": \"Other specified diseases and conditions complicating pregnancy, childbirth and the puerperium\", \"cause_of_death_code\": \"O99.8\", \"race_whispanicorigin\": \"Hispanic or Latino\", \"rate\": 0.8003617635171096}, {\"year\": \"2009\", \"cause_of_death\": \"Obstetric death of unspecified cause\", \"cause_of_death_code\": \"O95\", \"race_whispanicorigin\": \"Hispanic or Latino\", \"rate\": 0.6002713226378322}, {\"year\": \"2009\", \"cause_of_death\": \"Death from sequelae of direct obstetric causes\", \"cause_of_death_code\": \"O97\", \"race_whispanicorigin\": \"Hispanic or Latino\", \"rate\": 0.6002713226378322}, {\"year\": \"2008\", \"cause_of_death\": \"Other specified diseases and conditions complicating pregnancy, childbirth and the puerperium\", \"cause_of_death_code\": \"O99.8\", \"race_whispanicorigin\": \"Hispanic or Latino\", \"rate\": 1.7287097390704729}, {\"year\": \"2008\", \"cause_of_death\": \"Death from any obstetric cause occurring more than 42 days but less than one year after delivery\", \"cause_of_death_code\": \"O96\", \"race_whispanicorigin\": \"Hispanic or Latino\", \"rate\": 1.440591449225394}, {\"year\": \"2008\", \"cause_of_death\": \"Other specified pregnancy-related conditions\", \"cause_of_death_code\": \"O26.8\", \"race_whispanicorigin\": \"Hispanic or Latino\", \"rate\": 1.3445520192770344}, {\"year\": \"2008\", \"cause_of_death\": \"Obstetric death of unspecified cause\", \"cause_of_death_code\": \"O95\", \"race_whispanicorigin\": \"Hispanic or Latino\", \"rate\": 1.0564337294319555}, {\"year\": \"2008\", \"cause_of_death\": \"Diseases of the circulatory system complicating pregnancy, childbirth and the puerperium\", \"cause_of_death_code\": \"O99.4\", \"race_whispanicorigin\": \"Hispanic or Latino\", \"rate\": 1.0564337294319555}, {\"year\": \"2007\", \"cause_of_death\": \"Death from any obstetric cause occurring more than 42 days but less than one year after delivery\", \"cause_of_death_code\": \"O96\", \"race_whispanicorigin\": \"Hispanic or Latino\", \"rate\": 3.4814387563171647}, {\"year\": \"2007\", \"cause_of_death\": \"Other specified pregnancy-related conditions\", \"cause_of_death_code\": \"O26.8\", \"race_whispanicorigin\": \"Hispanic or Latino\", \"rate\": 1.2232082116790037}, {\"year\": \"2007\", \"cause_of_death\": \"Other specified diseases and conditions complicating pregnancy, childbirth and the puerperium\", \"cause_of_death_code\": \"O99.8\", \"race_whispanicorigin\": \"Hispanic or Latino\", \"rate\": 0.8468364542393104}, {\"year\": \"2007\", \"cause_of_death\": \"Diseases of the circulatory system complicating pregnancy, childbirth and the puerperium\", \"cause_of_death_code\": \"O99.4\", \"race_whispanicorigin\": \"Hispanic or Latino\", \"rate\": 0.752743514879387}, {\"year\": \"2007\", \"cause_of_death\": \"Pre-eclampsia, unspecified\", \"cause_of_death_code\": \"O14.9\", \"race_whispanicorigin\": \"Hispanic or Latino\", \"rate\": 0.4704646967996169}]}}, {\"mode\": \"vega-lite\"});\n",
       "</script>"
      ],
      "text/plain": [
       "alt.FacetChart(...)"
      ]
     },
     "execution_count": 30,
     "metadata": {},
     "output_type": "execute_result"
    }
   ],
   "source": [
    "base_chart = (\n",
    "    alt.Chart(top5_byrace)\n",
    "    .mark_line(point=True)\n",
    "    .encode(x=alt.X(\"year:O\"), y=alt.Y(\"rate\"), color=\"cause_of_death:N\")\n",
    "    .properties(width=100, height=200)\n",
    ")\n",
    "\n",
    "alt.layer(base_chart, data=top5_byrace).facet(\"race_whispanicorigin:N\")"
   ]
  },
  {
   "cell_type": "markdown",
   "id": "7a0a6684-a1a0-4258-82e5-1f89709bafe2",
   "metadata": {},
   "source": [
    "##### quality check rates to make sure they are correct\n",
    "##### calculate mm rates for racial group by 2020 to make sure they line up with cdc report"
   ]
  },
  {
   "cell_type": "code",
   "execution_count": null,
   "id": "564722e1-4d8a-4287-bdbc-d71623f52535",
   "metadata": {},
   "outputs": [],
   "source": [
    "excluded_causes = [\"O96\", \"O96.0\", \"O96.1\", \"O96.9\", \"O97\", \"O97.0\", \"O97.1\", \"O97.9\"]"
   ]
  },
  {
   "cell_type": "code",
   "execution_count": null,
   "id": "6a27149f-5b87-4a11-862f-730b16ac9af1",
   "metadata": {},
   "outputs": [],
   "source": [
    "test = rates_cause_year_race[\n",
    "    (rates_cause_year_race[\"year\"] == \"2020\")\n",
    "    & (~rates_cause_year_race[\"cause_of_death_code\"].isin(excluded_causes))\n",
    "]"
   ]
  },
  {
   "cell_type": "code",
   "execution_count": null,
   "id": "e346d62c-4a9f-4ecd-97a3-96e854646071",
   "metadata": {},
   "outputs": [],
   "source": [
    "test = test.drop(\n",
    "    columns=[\n",
    "        \"notes\",\n",
    "        \"race\",\n",
    "        \"race_code\",\n",
    "        \"hispanic_origin\",\n",
    "        \"hispanic_origin_code\",\n",
    "        \"population\",\n",
    "        \"crude_rate\",\n",
    "        \"rate\",\n",
    "    ]\n",
    ")"
   ]
  },
  {
   "cell_type": "code",
   "execution_count": null,
   "id": "0922d505-4928-4a29-98b2-ff0f5c895f95",
   "metadata": {},
   "outputs": [],
   "source": [
    "test = (\n",
    "    test.groupby([\"race_whispanicorigin\", \"total_births\"])\n",
    "    .agg(deaths_test=pd.NamedAgg(column=\"deaths\", aggfunc=sum))\n",
    "    .reset_index()\n",
    ")"
   ]
  },
  {
   "cell_type": "code",
   "execution_count": null,
   "id": "c1cf4a5a-d28c-4b01-9619-214222965727",
   "metadata": {},
   "outputs": [],
   "source": [
    "test[\"rate_race\"] = 100000 * (test[\"deaths_test\"] / test[\"total_births\"])"
   ]
  },
  {
   "cell_type": "code",
   "execution_count": null,
   "id": "fc456a9c-e522-4916-9095-fc0bab6f19eb",
   "metadata": {},
   "outputs": [],
   "source": [
    "test"
   ]
  },
  {
   "cell_type": "code",
   "execution_count": null,
   "id": "4531f57d-3956-41c9-8511-ad249c5f5be1",
   "metadata": {},
   "outputs": [],
   "source": [
    "hispanic_latino = df[\n",
    "    (df[\"race_whispanicorigin\"] == \"Hispanic or Latino\") & (df[\"year\"] == \"2020\")\n",
    "]"
   ]
  },
  {
   "cell_type": "code",
   "execution_count": null,
   "id": "0e8f030e-9022-42a8-80a8-3dd025cd2cfa",
   "metadata": {},
   "outputs": [],
   "source": [
    "hispanic_latino.to_csv(\"data/processed/hispanic_latino_duplicated.csv\")"
   ]
  },
  {
   "cell_type": "markdown",
   "id": "b27d1c7f-ce28-4ab5-8e04-c776baddf3e9",
   "metadata": {},
   "source": [
    "##### black and white rates seemed congruent (w/in rounding errors) with CDC findings--Black: 55.3 per 100k live births, white: 19.1\n",
    "##### seem to be double counting hispanic/latino (actual 2020 rate is 18)"
   ]
  },
  {
   "cell_type": "markdown",
   "id": "50556892-1dfa-4f48-aea2-75b924bacfdc",
   "metadata": {},
   "source": [
    "#### What I'm seeing in the charts is that deaths that are excluded from CDC measures due to timing are actually often among the top causes in a given year for certain racial groups. are these racial groups minorities? does excluding these causes obscure maternal death inequality?"
   ]
  },
  {
   "cell_type": "markdown",
   "id": "d31be4e7-53f8-4036-ac27-069df3e750db",
   "metadata": {},
   "source": [
    "##### i have a datawrapper chart that compared this and had the correct rate for hispanic/latino, but when i repeated the methodology it didn't work? \n",
    "##### also try different years"
   ]
  },
  {
   "cell_type": "code",
   "execution_count": null,
   "id": "8ba523a3-7013-4f5f-a40a-0a91f7b87dcd",
   "metadata": {},
   "outputs": [],
   "source": []
  }
 ],
 "metadata": {
  "kernelspec": {
   "display_name": "Python 3 (ipykernel)",
   "language": "python",
   "name": "python3"
  },
  "language_info": {
   "codemirror_mode": {
    "name": "ipython",
    "version": 3
   },
   "file_extension": ".py",
   "mimetype": "text/x-python",
   "name": "python",
   "nbconvert_exporter": "python",
   "pygments_lexer": "ipython3",
   "version": "3.9.13"
  }
 },
 "nbformat": 4,
 "nbformat_minor": 5
}
