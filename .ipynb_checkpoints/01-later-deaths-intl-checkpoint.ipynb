{
 "cells": [
  {
   "cell_type": "markdown",
   "id": "c92fcabc-5d60-4892-bd57-45642953fe56",
   "metadata": {},
   "source": [
    "### Necessary packages"
   ]
  },
  {
   "cell_type": "code",
   "execution_count": 1,
   "id": "419ab041-b528-4071-9db4-2a15b8f61246",
   "metadata": {},
   "outputs": [],
   "source": [
    "%load_ext lab_black"
   ]
  },
  {
   "cell_type": "code",
   "execution_count": 2,
   "id": "990d836d-9233-45d1-b81d-62dc6eface99",
   "metadata": {},
   "outputs": [
    {
     "data": {
      "text/plain": [
       "ThemeRegistry.enable('grid')"
      ]
     },
     "execution_count": 2,
     "metadata": {},
     "output_type": "execute_result"
    }
   ],
   "source": [
    "import requests\n",
    "import urllib.request\n",
    "import numpy as np\n",
    "import pandas as pd\n",
    "import altair as alt\n",
    "import altair_grid as altgrid\n",
    "\n",
    "alt.themes.register(\"grid\", altgrid.theme)\n",
    "alt.themes.enable(\"grid\")"
   ]
  },
  {
   "cell_type": "code",
   "execution_count": 3,
   "id": "6db031f5-5efa-476d-87f5-f8d7e2fd1b81",
   "metadata": {},
   "outputs": [],
   "source": [
    "from datawrapper import Datawrapper\n",
    "\n",
    "dw = Datawrapper(\n",
    "    access_token=\"FtIwtvFtoGLaRT9a3gjX69PLu4wSuRyKddoOz6SOPw3k9wWyNICMHTkcPhOGCR5Z\"\n",
    ")"
   ]
  },
  {
   "cell_type": "code",
   "execution_count": 6,
   "id": "8a4717c4-3b3b-4893-b50e-184d69b6ce8f",
   "metadata": {},
   "outputs": [],
   "source": [
    "pd.options.display.max_columns = 1000\n",
    "pd.options.display.max_rows = 1000"
   ]
  },
  {
   "cell_type": "markdown",
   "id": "ab1523fa-e847-4912-8b06-1d1212658d09",
   "metadata": {},
   "source": [
    "### Maternal mortality over time with CDC-limited cause of death codes"
   ]
  },
  {
   "cell_type": "code",
   "execution_count": 7,
   "id": "dae9f1c5-51f3-405c-9411-4ea4056f404d",
   "metadata": {},
   "outputs": [],
   "source": [
    "year_cause_cdclimited = pd.read_table(\n",
    "    \"data/raw/byyear_andcause.txt\", dtype={\"Year\": str, \"Year Code\": str}\n",
    ")"
   ]
  },
  {
   "cell_type": "code",
   "execution_count": 8,
   "id": "b6377882-bd66-4472-8dfa-59e866a0350b",
   "metadata": {},
   "outputs": [],
   "source": [
    "year_cause_cdclimited.columns = year_cause_cdclimited.columns.str.lower().str.replace(\n",
    "    \" \", \"_\"\n",
    ")"
   ]
  },
  {
   "cell_type": "markdown",
   "id": "bd496e39-30e7-45ce-b4da-034a2f98e719",
   "metadata": {},
   "source": [
    "### Maternal mortality over time with all obstetric cause death codes"
   ]
  },
  {
   "cell_type": "code",
   "execution_count": 9,
   "id": "d107bfd1-ad4c-4a0d-9d9c-776c94d06ddd",
   "metadata": {},
   "outputs": [],
   "source": [
    "year_cause_all = pd.read_table(\n",
    "    \"data/raw/after42days.txt\", dtype={\"Year\": str, \"Year Code\": str}\n",
    ")"
   ]
  },
  {
   "cell_type": "code",
   "execution_count": 10,
   "id": "3ce3bc55-eb38-4098-a493-dca846df9efd",
   "metadata": {},
   "outputs": [],
   "source": [
    "year_cause_all.columns = year_cause_all.columns.str.lower().str.replace(\" \", \"_\")"
   ]
  },
  {
   "cell_type": "markdown",
   "id": "4ae9b42e-64dc-4018-a7d0-9ba2fc409847",
   "metadata": {},
   "source": [
    "#### Percent comparisons: deaths included by cdc and those excluded (42 days or more post pregnancy)"
   ]
  },
  {
   "cell_type": "code",
   "execution_count": 11,
   "id": "49ebdfff-6212-493a-8441-35e3b696bdb2",
   "metadata": {},
   "outputs": [],
   "source": [
    "yc_all_pct = year_cause_all.dropna(subset=[\"year\"]).drop(columns=\"notes\")"
   ]
  },
  {
   "cell_type": "code",
   "execution_count": 12,
   "id": "d62d3dcd-e441-48d5-8b41-0eda80b277bb",
   "metadata": {},
   "outputs": [],
   "source": [
    "yc_all_pct.value_counts(\"cause_of_death_code\")\n",
    "post42 = [\"O96.0\", \"O96.1\", \"O97\", \"O97.0\", \"O97.1\", \"O97.9\"]\n",
    "conditions = [\n",
    "    (yc_all_pct[\"cause_of_death_code\"].isin(post42)),\n",
    "    (~yc_all_pct[\"cause_of_death_code\"].isin(post42)),\n",
    "]\n",
    "\n",
    "values = [\"after 42 days\", \"within 42 days\"]\n",
    "\n",
    "yc_all_pct[\"later_death\"] = np.select(conditions, values)"
   ]
  },
  {
   "cell_type": "code",
   "execution_count": 13,
   "id": "808b78eb-fd4d-49c0-a22f-f0542dc5cb88",
   "metadata": {},
   "outputs": [],
   "source": [
    "timing = (\n",
    "    yc_all_pct.groupby([\"year\", \"later_death\"])\n",
    "    .agg(sum_after42=pd.NamedAgg(column=\"deaths\", aggfunc=sum))\n",
    "    .reset_index()\n",
    ")"
   ]
  },
  {
   "cell_type": "code",
   "execution_count": 14,
   "id": "7bc33db6-82c4-4afd-8616-141e3476448e",
   "metadata": {},
   "outputs": [],
   "source": [
    "timing_comparison = timing.pivot(\n",
    "    index=\"year\", columns=\"later_death\", values=\"sum_after42\"\n",
    ").dropna(subset=[\"after 42 days\"])"
   ]
  },
  {
   "cell_type": "code",
   "execution_count": 15,
   "id": "b8557fdb-4ad7-4853-8940-4ed78a928f11",
   "metadata": {},
   "outputs": [],
   "source": [
    "timing_comparison[\"pct\"] = (timing_comparison[\"after 42 days\"]) / (\n",
    "    timing_comparison[\"after 42 days\"] + timing_comparison[\"within 42 days\"]\n",
    ")"
   ]
  },
  {
   "cell_type": "code",
   "execution_count": 16,
   "id": "47bf6cf5-ad1b-4772-8e86-4a5fea468e98",
   "metadata": {},
   "outputs": [],
   "source": [
    "timing_comparison = timing_comparison.reset_index()"
   ]
  },
  {
   "cell_type": "code",
   "execution_count": 17,
   "id": "2c29d0d9-ef51-45a5-904f-2de575e86e74",
   "metadata": {},
   "outputs": [],
   "source": [
    "timing_comparison[\"yeardate\"] = pd.to_datetime(timing_comparison[\"year\"])"
   ]
  },
  {
   "cell_type": "markdown",
   "id": "3359f095-6e3e-4f1a-91c4-acc5e515b297",
   "metadata": {},
   "source": [
    "#### Percent of total obstetric deaths from causes 42 days or more after birth, over time\n",
    "#### what is the sudden jump from? did they start tracking better?"
   ]
  },
  {
   "cell_type": "code",
   "execution_count": 18,
   "id": "9f12e3bb-8eea-4bdc-abb8-c148e995ce49",
   "metadata": {},
   "outputs": [
    {
     "data": {
      "text/html": [
       "\n",
       "<div id=\"altair-viz-c51ae46c69624c2483d6b191636eeef0\"></div>\n",
       "<script type=\"text/javascript\">\n",
       "  var VEGA_DEBUG = (typeof VEGA_DEBUG == \"undefined\") ? {} : VEGA_DEBUG;\n",
       "  (function(spec, embedOpt){\n",
       "    let outputDiv = document.currentScript.previousElementSibling;\n",
       "    if (outputDiv.id !== \"altair-viz-c51ae46c69624c2483d6b191636eeef0\") {\n",
       "      outputDiv = document.getElementById(\"altair-viz-c51ae46c69624c2483d6b191636eeef0\");\n",
       "    }\n",
       "    const paths = {\n",
       "      \"vega\": \"https://cdn.jsdelivr.net/npm//vega@5?noext\",\n",
       "      \"vega-lib\": \"https://cdn.jsdelivr.net/npm//vega-lib?noext\",\n",
       "      \"vega-lite\": \"https://cdn.jsdelivr.net/npm//vega-lite@4.17.0?noext\",\n",
       "      \"vega-embed\": \"https://cdn.jsdelivr.net/npm//vega-embed@6?noext\",\n",
       "    };\n",
       "\n",
       "    function maybeLoadScript(lib, version) {\n",
       "      var key = `${lib.replace(\"-\", \"\")}_version`;\n",
       "      return (VEGA_DEBUG[key] == version) ?\n",
       "        Promise.resolve(paths[lib]) :\n",
       "        new Promise(function(resolve, reject) {\n",
       "          var s = document.createElement('script');\n",
       "          document.getElementsByTagName(\"head\")[0].appendChild(s);\n",
       "          s.async = true;\n",
       "          s.onload = () => {\n",
       "            VEGA_DEBUG[key] = version;\n",
       "            return resolve(paths[lib]);\n",
       "          };\n",
       "          s.onerror = () => reject(`Error loading script: ${paths[lib]}`);\n",
       "          s.src = paths[lib];\n",
       "        });\n",
       "    }\n",
       "\n",
       "    function showError(err) {\n",
       "      outputDiv.innerHTML = `<div class=\"error\" style=\"color:red;\">${err}</div>`;\n",
       "      throw err;\n",
       "    }\n",
       "\n",
       "    function displayChart(vegaEmbed) {\n",
       "      vegaEmbed(outputDiv, spec, embedOpt)\n",
       "        .catch(err => showError(`Javascript Error: ${err.message}<br>This usually means there's a typo in your chart specification. See the javascript console for the full traceback.`));\n",
       "    }\n",
       "\n",
       "    if(typeof define === \"function\" && define.amd) {\n",
       "      requirejs.config({paths});\n",
       "      require([\"vega-embed\"], displayChart, err => showError(`Error loading script: ${err.message}`));\n",
       "    } else {\n",
       "      maybeLoadScript(\"vega\", \"5\")\n",
       "        .then(() => maybeLoadScript(\"vega-lite\", \"4.17.0\"))\n",
       "        .then(() => maybeLoadScript(\"vega-embed\", \"6\"))\n",
       "        .catch(showError)\n",
       "        .then(() => displayChart(vegaEmbed));\n",
       "    }\n",
       "  })({\"config\": {\"view\": {\"width\": 800, \"height\": 450, \"strokeOpacity\": 0}, \"background\": \"#ffffff\", \"title\": {\"anchor\": \"start\", \"font\": \"Summit Sans\", \"fontColor\": \"palette[\\\"black\\\"]\", \"fontSize\": 18, \"fontWeight\": \"normal\"}, \"arc\": {\"fill\": \"#00d4d8\"}, \"area\": {\"fill\": \"#00d4d8\"}, \"line\": {\"stroke\": \"#00d4d8\", \"strokeWidth\": 3}, \"path\": {\"stroke\": \"#00d4d8\"}, \"rect\": {\"fill\": \"#00d4d8\"}, \"shape\": {\"stroke\": \"#00d4d8\"}, \"bar\": {\"fill\": \"#00d4d8\"}, \"point\": {\"stroke\": \"#00d4d8\"}, \"symbol\": {\"fill\": \"#00d4d8\", \"size\": 30}, \"axis\": {\"titleFont\": \"Roboto\", \"titleFontSize\": 15, \"titleFontWeight\": \"normal\", \"labelFont\": \"Roboto, sans\", \"labelFontSize\": 13, \"labelFontWeight\": \"normal\"}, \"axisX\": {\"labelAngle\": 0, \"labelPadding\": 6, \"tickSize\": 3, \"grid\": false}, \"axisY\": {\"labelBaseline\": \"middle\", \"maxExtent\": 45, \"minExtent\": 45, \"titleAlign\": \"left\", \"titleAngle\": 0, \"titleX\": -45, \"titleY\": -11, \"domainOpacity\": 0, \"gridWidth\": 0.6, \"gridColor\": \"#dddddd\", \"offset\": 6, \"tickSize\": 0, \"titleColor\": \"#767676\"}, \"legend\": {\"titleFont\": \"Roboto\", \"titleFontSize\": 15, \"titleFontWeight\": \"normal\", \"symbolType\": \"square\", \"labelFont\": \"Roboto, sans\", \"labelFontSize\": 13}, \"range\": {\"category\": [\"#005f66\", \"#e37e2d\", \"#d64a3b\", \"#76b0ef\", \"#c1bc40\"], \"diverging\": [\"#e68a4f\", \"#f4bb6a\", \"#f9e39c\", \"#dadfe2\", \"#a6b7c6\", \"#849eae\"], \"heatmap\": [\"#7ff6f6\", \"#00eeef\", \"#00d4d8\", \"#00abb2\", \"#00848b\", \"#fbf2c7\", \"#00363d\"], \"ordinal\": [\"#7ff6f6\", \"#00eeef\", \"#00d4d8\", \"#00abb2\", \"#00848b\", \"#fbf2c7\", \"#00363d\"], \"ramp\": [\"#7ff6f6\", \"#00eeef\", \"#00d4d8\", \"#00abb2\", \"#00848b\", \"#fbf2c7\", \"#00363d\"]}}, \"data\": {\"name\": \"data-8bcd9ae2b40ad14dde721410baf16d7e\"}, \"mark\": \"line\", \"encoding\": {\"x\": {\"field\": \"year\", \"type\": \"nominal\"}, \"y\": {\"field\": \"pct\", \"type\": \"quantitative\"}}, \"$schema\": \"https://vega.github.io/schema/vega-lite/v4.17.0.json\", \"datasets\": {\"data-8bcd9ae2b40ad14dde721410baf16d7e\": [{\"year\": \"1999\", \"after 42 days\": 10.0, \"within 42 days\": 802.0, \"pct\": 0.012315270935960592, \"yeardate\": \"1999-01-01T00:00:00\"}, {\"year\": \"2000\", \"after 42 days\": 6.0, \"within 42 days\": 802.0, \"pct\": 0.007425742574257425, \"yeardate\": \"2000-01-01T00:00:00\"}, {\"year\": \"2001\", \"after 42 days\": 8.0, \"within 42 days\": 824.0, \"pct\": 0.009615384615384616, \"yeardate\": \"2001-01-01T00:00:00\"}, {\"year\": \"2002\", \"after 42 days\": 13.0, \"within 42 days\": 745.0, \"pct\": 0.017150395778364115, \"yeardate\": \"2002-01-01T00:00:00\"}, {\"year\": \"2003\", \"after 42 days\": 4.0, \"within 42 days\": 1086.0, \"pct\": 0.003669724770642202, \"yeardate\": \"2003-01-01T00:00:00\"}, {\"year\": \"2004\", \"after 42 days\": 12.0, \"within 42 days\": 1382.0, \"pct\": 0.00860832137733142, \"yeardate\": \"2004-01-01T00:00:00\"}, {\"year\": \"2005\", \"after 42 days\": 7.0, \"within 42 days\": 1513.0, \"pct\": 0.004605263157894736, \"yeardate\": \"2005-01-01T00:00:00\"}, {\"year\": \"2006\", \"after 42 days\": 11.0, \"within 42 days\": 1509.0, \"pct\": 0.007236842105263158, \"yeardate\": \"2006-01-01T00:00:00\"}, {\"year\": \"2007\", \"after 42 days\": 6.0, \"within 42 days\": 1532.0, \"pct\": 0.0039011703511053317, \"yeardate\": \"2007-01-01T00:00:00\"}, {\"year\": \"2008\", \"after 42 days\": 7.0, \"within 42 days\": 1583.0, \"pct\": 0.00440251572327044, \"yeardate\": \"2008-01-01T00:00:00\"}, {\"year\": \"2009\", \"after 42 days\": 18.0, \"within 42 days\": 1902.0, \"pct\": 0.009375, \"yeardate\": \"2009-01-01T00:00:00\"}, {\"year\": \"2010\", \"after 42 days\": 3.0, \"within 42 days\": 1647.0, \"pct\": 0.0018181818181818182, \"yeardate\": \"2010-01-01T00:00:00\"}, {\"year\": \"2011\", \"after 42 days\": 150.0, \"within 42 days\": 1712.0, \"pct\": 0.08055853920515575, \"yeardate\": \"2011-01-01T00:00:00\"}, {\"year\": \"2012\", \"after 42 days\": 189.0, \"within 42 days\": 1791.0, \"pct\": 0.09545454545454546, \"yeardate\": \"2012-01-01T00:00:00\"}, {\"year\": \"2013\", \"after 42 days\": 263.0, \"within 42 days\": 2013.0, \"pct\": 0.11555360281195079, \"yeardate\": \"2013-01-01T00:00:00\"}, {\"year\": \"2014\", \"after 42 days\": 260.0, \"within 42 days\": 1986.0, \"pct\": 0.1157613535173642, \"yeardate\": \"2014-01-01T00:00:00\"}, {\"year\": \"2015\", \"after 42 days\": 290.0, \"within 42 days\": 1990.0, \"pct\": 0.12719298245614036, \"yeardate\": \"2015-01-01T00:00:00\"}, {\"year\": \"2016\", \"after 42 days\": 356.0, \"within 42 days\": 2106.0, \"pct\": 0.1445978878960195, \"yeardate\": \"2016-01-01T00:00:00\"}, {\"year\": \"2017\", \"after 42 days\": 367.0, \"within 42 days\": 2049.0, \"pct\": 0.1519039735099338, \"yeardate\": \"2017-01-01T00:00:00\"}, {\"year\": \"2018\", \"after 42 days\": 304.0, \"within 42 days\": 1642.0, \"pct\": 0.15621788283658788, \"yeardate\": \"2018-01-01T00:00:00\"}, {\"year\": \"2019\", \"after 42 days\": 337.0, \"within 42 days\": 1869.0, \"pct\": 0.1527651858567543, \"yeardate\": \"2019-01-01T00:00:00\"}, {\"year\": \"2020 \", \"after 42 days\": 416.0, \"within 42 days\": 2160.0, \"pct\": 0.16149068322981366, \"yeardate\": \"2020-01-01T00:00:00\"}]}}, {\"mode\": \"vega-lite\"});\n",
       "</script>"
      ],
      "text/plain": [
       "alt.Chart(...)"
      ]
     },
     "execution_count": 18,
     "metadata": {},
     "output_type": "execute_result"
    }
   ],
   "source": [
    "alt.Chart(timing_comparison).mark_line().encode(x=alt.X(\"year:N\"), y=(alt.Y(\"pct\")))"
   ]
  },
  {
   "cell_type": "markdown",
   "id": "9eedc563-366d-44b8-b8a9-647c17f95530",
   "metadata": {},
   "source": [
    "### 2020 Maternal mortality broken down by race and cause\n",
    "##### includes all obstetric causes, not just those CDC counts"
   ]
  },
  {
   "cell_type": "code",
   "execution_count": 19,
   "id": "0980a81c-ae4d-4e5e-89d9-858d9ecb701a",
   "metadata": {},
   "outputs": [],
   "source": [
    "mm_byrace = pd.read_table(\"data/raw/mm_2020_byrace_bycause.txt\")"
   ]
  },
  {
   "cell_type": "code",
   "execution_count": 20,
   "id": "ae8ef0d6-5b62-4d96-9604-d39b3200ec5c",
   "metadata": {},
   "outputs": [],
   "source": [
    "mm_byrace.columns = mm_byrace.columns.str.lower().str.replace(\" \", \"_\")"
   ]
  },
  {
   "cell_type": "markdown",
   "id": "2c6b3a7c-eef6-4a9f-a6a7-f1f3bb0ffc41",
   "metadata": {},
   "source": [
    "#### coding for causes included in CDC maternal mortality surveillance"
   ]
  },
  {
   "cell_type": "code",
   "execution_count": 21,
   "id": "f1afc3fc-fc31-46ac-b22a-f48e772192e3",
   "metadata": {},
   "outputs": [],
   "source": [
    "conditions = [\n",
    "    (mm_byrace[\"cause_of_death_code\"].isin(post42)),\n",
    "    (~mm_byrace[\"cause_of_death_code\"].isin(post42)),\n",
    "]\n",
    "\n",
    "values = [\"not recorded\", \"recorded\"]\n",
    "\n",
    "mm_byrace[\"cdc_maternal_mortality\"] = np.select(conditions, values)"
   ]
  },
  {
   "cell_type": "markdown",
   "id": "900a2f3b-0f98-4ea1-b80b-2e853e5bd9a0",
   "metadata": {},
   "source": [
    "#### coding race and hispanic origin combined variable"
   ]
  },
  {
   "cell_type": "code",
   "execution_count": 22,
   "id": "7137f74b-c91f-4716-863d-65da0632cbb9",
   "metadata": {},
   "outputs": [],
   "source": [
    "race_ho_conditions = [\n",
    "    (\n",
    "        (mm_byrace[\"race\"] == \"White\")\n",
    "        & (mm_byrace[\"hispanic_origin\"] == \"Not Hispanic or Latino\")\n",
    "    ),\n",
    "    (\n",
    "        (mm_byrace[\"race\"] == \"Black or African American\")\n",
    "        & (mm_byrace[\"hispanic_origin\"] == \"Not Hispanic or Latino\")\n",
    "    ),\n",
    "    (\n",
    "        (mm_byrace[\"race\"] == \"Asian or Pacific Islander\")\n",
    "        & (mm_byrace[\"hispanic_origin\"] == \"Not Hispanic or Latino\")\n",
    "    ),\n",
    "    (\n",
    "        (mm_byrace[\"race\"] == \"American Indian or Alaska Native\")\n",
    "        & (mm_byrace[\"hispanic_origin\"] == \"Not Hispanic or Latino\")\n",
    "    ),\n",
    "    (mm_byrace[\"hispanic_origin\"] == \"Hispanic or Latino\"),\n",
    "    (mm_byrace[\"race\"].isna())\n",
    "    & (mm_byrace[\"hispanic_origin\"].isna())\n",
    "    & (mm_byrace[\"notes\"] == \"Total\"),\n",
    "]\n",
    "\n",
    "race_ho_values = [\n",
    "    \"White\",\n",
    "    \"Black\",\n",
    "    \"AAPI\",\n",
    "    \"American Indian or Alaska Native\",\n",
    "    \"Hispanic or Latino\",\n",
    "    \"Overall\",\n",
    "]\n",
    "\n",
    "mm_byrace[\"race_whispanicorigin\"] = np.select(race_ho_conditions, race_ho_values)"
   ]
  },
  {
   "cell_type": "code",
   "execution_count": 23,
   "id": "05346f3c-9e43-46ee-b543-cc72feae1ca2",
   "metadata": {},
   "outputs": [],
   "source": [
    "rawdeaths_byrace_cdcrec = (\n",
    "    mm_byrace[\n",
    "        (mm_byrace[\"race_whispanicorigin\"] != \"0\") & (mm_byrace[\"notes\"] != \"Total\")\n",
    "    ]\n",
    "    .groupby([\"race_whispanicorigin\", \"cdc_maternal_mortality\"])\n",
    "    .agg(deaths=pd.NamedAgg(column=\"deaths\", aggfunc=sum))\n",
    "    .reset_index()\n",
    ")"
   ]
  },
  {
   "cell_type": "code",
   "execution_count": 24,
   "id": "49637474-dca9-4b2e-8378-c6b8477da43c",
   "metadata": {},
   "outputs": [],
   "source": [
    "rawdeaths_byrace_cdcrec_wide = rawdeaths_byrace_cdcrec.pivot(\n",
    "    index=\"race_whispanicorigin\", columns=\"cdc_maternal_mortality\", values=\"deaths\"\n",
    ")"
   ]
  },
  {
   "cell_type": "markdown",
   "id": "22b65d80-aec9-4260-b272-bdc3fbe77c8d",
   "metadata": {},
   "source": [
    "### International maternal mortality data"
   ]
  },
  {
   "cell_type": "code",
   "execution_count": 25,
   "id": "9c770fbc-5893-45f9-8927-08702d4e1d87",
   "metadata": {},
   "outputs": [],
   "source": [
    "international_mm = pd.read_csv(\"data/raw/mm_intl.csv\", dtype={\"Period\": str})"
   ]
  },
  {
   "cell_type": "code",
   "execution_count": 26,
   "id": "075e1f58-1f77-4c45-83a4-ca59bf7685df",
   "metadata": {},
   "outputs": [],
   "source": [
    "international_mm.columns = international_mm.columns.str.lower().str.replace(\" \", \"_\")"
   ]
  },
  {
   "cell_type": "code",
   "execution_count": 27,
   "id": "f6e81691-5bb4-4b78-8e53-5b56cfecc0ff",
   "metadata": {},
   "outputs": [],
   "source": [
    "intl_mm_rates = international_mm[\n",
    "    (\n",
    "        international_mm[\"indicator\"]\n",
    "        == \"Maternal mortality ratio (per 100 000 live births)\"\n",
    "    )\n",
    "    & (international_mm[\"period\"] == \"2017\")\n",
    "]\n",
    "intl_mm_rates = intl_mm_rates[\n",
    "    [\"spatialdimvaluecode\", \"location\", \"period\", \"factvaluenumeric\"]\n",
    "]"
   ]
  },
  {
   "cell_type": "code",
   "execution_count": 28,
   "id": "bd08f161-1a77-4fd1-ba71-e35160f45253",
   "metadata": {},
   "outputs": [],
   "source": [
    "close_to_us = intl_mm_rates[\n",
    "    (intl_mm_rates[\"factvaluenumeric\"] > 15) & (intl_mm_rates[\"factvaluenumeric\"] < 20)\n",
    "]"
   ]
  },
  {
   "cell_type": "code",
   "execution_count": 29,
   "id": "eb5cfa18-fc64-43e7-87ea-6e33d9e9bb7c",
   "metadata": {},
   "outputs": [],
   "source": [
    "countrycodes = close_to_us[\"spatialdimvaluecode\"]"
   ]
  },
  {
   "cell_type": "code",
   "execution_count": 30,
   "id": "4309fe7e-262e-43f5-85a8-c06698edd103",
   "metadata": {},
   "outputs": [],
   "source": [
    "overtime = international_mm[international_mm[\"spatialdimvaluecode\"].isin(countrycodes)]"
   ]
  },
  {
   "cell_type": "code",
   "execution_count": 31,
   "id": "7c3fcbf3-f0d0-4629-84e8-fee1639179c4",
   "metadata": {},
   "outputs": [],
   "source": [
    "rates_overtime = overtime[\n",
    "    overtime[\"indicator\"] == \"Maternal mortality ratio (per 100 000 live births)\"\n",
    "]"
   ]
  },
  {
   "cell_type": "code",
   "execution_count": 32,
   "id": "1ba31457-13db-46bc-b3ec-f52af0dc3668",
   "metadata": {},
   "outputs": [],
   "source": [
    "rates_overtime = rates_overtime[[\"location\", \"period\", \"factvaluenumeric\"]].pivot(\n",
    "    index=\"location\", columns=\"period\", values=\"factvaluenumeric\"\n",
    ")"
   ]
  },
  {
   "cell_type": "code",
   "execution_count": 33,
   "id": "d9054384-f42e-4550-9f6a-2993df6de5e8",
   "metadata": {},
   "outputs": [],
   "source": [
    "target_countries = [\n",
    "    \"United States of America\",\n",
    "    \"Russian Federation\",\n",
    "    \"Iran (Islamic Republic of)\",\n",
    "    \"Saudi Arabia\",\n",
    "    \"Uruguay\",\n",
    "]"
   ]
  },
  {
   "cell_type": "code",
   "execution_count": 34,
   "id": "fbc0031f-ce26-423b-a099-e0cc0308796f",
   "metadata": {},
   "outputs": [],
   "source": [
    "g7_countries = [\"United States of America\", \"France\"]"
   ]
  },
  {
   "cell_type": "code",
   "execution_count": 35,
   "id": "792c3c0f-2071-447f-bf49-48a1f35318e0",
   "metadata": {},
   "outputs": [],
   "source": [
    "intl_rates_overtime_long = overtime[\n",
    "    (overtime[\"indicator\"] == \"Maternal mortality ratio (per 100 000 live births)\")\n",
    "    & (overtime[\"location\"].isin(target_countries))\n",
    "]"
   ]
  },
  {
   "cell_type": "code",
   "execution_count": 36,
   "id": "9f56df6e-0b94-4aa8-aa8e-b728a5e05a7d",
   "metadata": {},
   "outputs": [],
   "source": [
    "intl_rates_overtime_long = intl_rates_overtime_long[\n",
    "    [\"location\", \"period\", \"factvaluenumeric\"]\n",
    "]"
   ]
  },
  {
   "cell_type": "code",
   "execution_count": 37,
   "id": "ac1e5e69-d7dc-495a-83f0-a48b2143bf90",
   "metadata": {},
   "outputs": [
    {
     "data": {
      "text/html": [
       "\n",
       "<div id=\"altair-viz-2b7766d1a8b14588b74486ba89ac77a8\"></div>\n",
       "<script type=\"text/javascript\">\n",
       "  var VEGA_DEBUG = (typeof VEGA_DEBUG == \"undefined\") ? {} : VEGA_DEBUG;\n",
       "  (function(spec, embedOpt){\n",
       "    let outputDiv = document.currentScript.previousElementSibling;\n",
       "    if (outputDiv.id !== \"altair-viz-2b7766d1a8b14588b74486ba89ac77a8\") {\n",
       "      outputDiv = document.getElementById(\"altair-viz-2b7766d1a8b14588b74486ba89ac77a8\");\n",
       "    }\n",
       "    const paths = {\n",
       "      \"vega\": \"https://cdn.jsdelivr.net/npm//vega@5?noext\",\n",
       "      \"vega-lib\": \"https://cdn.jsdelivr.net/npm//vega-lib?noext\",\n",
       "      \"vega-lite\": \"https://cdn.jsdelivr.net/npm//vega-lite@4.17.0?noext\",\n",
       "      \"vega-embed\": \"https://cdn.jsdelivr.net/npm//vega-embed@6?noext\",\n",
       "    };\n",
       "\n",
       "    function maybeLoadScript(lib, version) {\n",
       "      var key = `${lib.replace(\"-\", \"\")}_version`;\n",
       "      return (VEGA_DEBUG[key] == version) ?\n",
       "        Promise.resolve(paths[lib]) :\n",
       "        new Promise(function(resolve, reject) {\n",
       "          var s = document.createElement('script');\n",
       "          document.getElementsByTagName(\"head\")[0].appendChild(s);\n",
       "          s.async = true;\n",
       "          s.onload = () => {\n",
       "            VEGA_DEBUG[key] = version;\n",
       "            return resolve(paths[lib]);\n",
       "          };\n",
       "          s.onerror = () => reject(`Error loading script: ${paths[lib]}`);\n",
       "          s.src = paths[lib];\n",
       "        });\n",
       "    }\n",
       "\n",
       "    function showError(err) {\n",
       "      outputDiv.innerHTML = `<div class=\"error\" style=\"color:red;\">${err}</div>`;\n",
       "      throw err;\n",
       "    }\n",
       "\n",
       "    function displayChart(vegaEmbed) {\n",
       "      vegaEmbed(outputDiv, spec, embedOpt)\n",
       "        .catch(err => showError(`Javascript Error: ${err.message}<br>This usually means there's a typo in your chart specification. See the javascript console for the full traceback.`));\n",
       "    }\n",
       "\n",
       "    if(typeof define === \"function\" && define.amd) {\n",
       "      requirejs.config({paths});\n",
       "      require([\"vega-embed\"], displayChart, err => showError(`Error loading script: ${err.message}`));\n",
       "    } else {\n",
       "      maybeLoadScript(\"vega\", \"5\")\n",
       "        .then(() => maybeLoadScript(\"vega-lite\", \"4.17.0\"))\n",
       "        .then(() => maybeLoadScript(\"vega-embed\", \"6\"))\n",
       "        .catch(showError)\n",
       "        .then(() => displayChart(vegaEmbed));\n",
       "    }\n",
       "  })({\"config\": {\"view\": {\"width\": 800, \"height\": 450, \"strokeOpacity\": 0}, \"background\": \"#ffffff\", \"title\": {\"anchor\": \"start\", \"font\": \"Summit Sans\", \"fontColor\": \"palette[\\\"black\\\"]\", \"fontSize\": 18, \"fontWeight\": \"normal\"}, \"arc\": {\"fill\": \"#00d4d8\"}, \"area\": {\"fill\": \"#00d4d8\"}, \"line\": {\"stroke\": \"#00d4d8\", \"strokeWidth\": 3}, \"path\": {\"stroke\": \"#00d4d8\"}, \"rect\": {\"fill\": \"#00d4d8\"}, \"shape\": {\"stroke\": \"#00d4d8\"}, \"bar\": {\"fill\": \"#00d4d8\"}, \"point\": {\"stroke\": \"#00d4d8\"}, \"symbol\": {\"fill\": \"#00d4d8\", \"size\": 30}, \"axis\": {\"titleFont\": \"Roboto\", \"titleFontSize\": 15, \"titleFontWeight\": \"normal\", \"labelFont\": \"Roboto, sans\", \"labelFontSize\": 13, \"labelFontWeight\": \"normal\"}, \"axisX\": {\"labelAngle\": 0, \"labelPadding\": 6, \"tickSize\": 3, \"grid\": false}, \"axisY\": {\"labelBaseline\": \"middle\", \"maxExtent\": 45, \"minExtent\": 45, \"titleAlign\": \"left\", \"titleAngle\": 0, \"titleX\": -45, \"titleY\": -11, \"domainOpacity\": 0, \"gridWidth\": 0.6, \"gridColor\": \"#dddddd\", \"offset\": 6, \"tickSize\": 0, \"titleColor\": \"#767676\"}, \"legend\": {\"titleFont\": \"Roboto\", \"titleFontSize\": 15, \"titleFontWeight\": \"normal\", \"symbolType\": \"square\", \"labelFont\": \"Roboto, sans\", \"labelFontSize\": 13}, \"range\": {\"category\": [\"#005f66\", \"#e37e2d\", \"#d64a3b\", \"#76b0ef\", \"#c1bc40\"], \"diverging\": [\"#e68a4f\", \"#f4bb6a\", \"#f9e39c\", \"#dadfe2\", \"#a6b7c6\", \"#849eae\"], \"heatmap\": [\"#7ff6f6\", \"#00eeef\", \"#00d4d8\", \"#00abb2\", \"#00848b\", \"#fbf2c7\", \"#00363d\"], \"ordinal\": [\"#7ff6f6\", \"#00eeef\", \"#00d4d8\", \"#00abb2\", \"#00848b\", \"#fbf2c7\", \"#00363d\"], \"ramp\": [\"#7ff6f6\", \"#00eeef\", \"#00d4d8\", \"#00abb2\", \"#00848b\", \"#fbf2c7\", \"#00363d\"]}}, \"data\": {\"name\": \"data-54b7a52c540547dc829e683f97d9fd57\"}, \"mark\": {\"type\": \"line\", \"point\": true}, \"encoding\": {\"color\": {\"field\": \"location\", \"type\": \"nominal\"}, \"x\": {\"field\": \"period\", \"timeUnit\": \"year\", \"type\": \"ordinal\"}, \"y\": {\"field\": \"factvaluenumeric\", \"type\": \"quantitative\"}}, \"$schema\": \"https://vega.github.io/schema/vega-lite/v4.17.0.json\", \"datasets\": {\"data-54b7a52c540547dc829e683f97d9fd57\": [{\"location\": \"Iran (Islamic Republic of)\", \"period\": \"2017\", \"factvaluenumeric\": 16}, {\"location\": \"Saudi Arabia\", \"period\": \"2017\", \"factvaluenumeric\": 17}, {\"location\": \"Russian Federation\", \"period\": \"2017\", \"factvaluenumeric\": 17}, {\"location\": \"Uruguay\", \"period\": \"2017\", \"factvaluenumeric\": 17}, {\"location\": \"United States of America\", \"period\": \"2017\", \"factvaluenumeric\": 19}, {\"location\": \"Iran (Islamic Republic of)\", \"period\": \"2016\", \"factvaluenumeric\": 16}, {\"location\": \"Saudi Arabia\", \"period\": \"2016\", \"factvaluenumeric\": 17}, {\"location\": \"Russian Federation\", \"period\": \"2016\", \"factvaluenumeric\": 18}, {\"location\": \"Uruguay\", \"period\": \"2016\", \"factvaluenumeric\": 18}, {\"location\": \"United States of America\", \"period\": \"2016\", \"factvaluenumeric\": 19}, {\"location\": \"Saudi Arabia\", \"period\": \"2015\", \"factvaluenumeric\": 17}, {\"location\": \"Iran (Islamic Republic of)\", \"period\": \"2015\", \"factvaluenumeric\": 17}, {\"location\": \"Russian Federation\", \"period\": \"2015\", \"factvaluenumeric\": 18}, {\"location\": \"United States of America\", \"period\": \"2015\", \"factvaluenumeric\": 18}, {\"location\": \"Uruguay\", \"period\": \"2015\", \"factvaluenumeric\": 18}, {\"location\": \"United States of America\", \"period\": \"2014\", \"factvaluenumeric\": 16}, {\"location\": \"Saudi Arabia\", \"period\": \"2014\", \"factvaluenumeric\": 17}, {\"location\": \"Iran (Islamic Republic of)\", \"period\": \"2014\", \"factvaluenumeric\": 17}, {\"location\": \"Uruguay\", \"period\": \"2014\", \"factvaluenumeric\": 17}, {\"location\": \"Russian Federation\", \"period\": \"2014\", \"factvaluenumeric\": 19}, {\"location\": \"United States of America\", \"period\": \"2013\", \"factvaluenumeric\": 16}, {\"location\": \"Saudi Arabia\", \"period\": \"2013\", \"factvaluenumeric\": 17}, {\"location\": \"Iran (Islamic Republic of)\", \"period\": \"2013\", \"factvaluenumeric\": 17}, {\"location\": \"Uruguay\", \"period\": \"2013\", \"factvaluenumeric\": 18}, {\"location\": \"Russian Federation\", \"period\": \"2013\", \"factvaluenumeric\": 20}, {\"location\": \"United States of America\", \"period\": \"2012\", \"factvaluenumeric\": 16}, {\"location\": \"Uruguay\", \"period\": \"2012\", \"factvaluenumeric\": 17}, {\"location\": \"Saudi Arabia\", \"period\": \"2012\", \"factvaluenumeric\": 18}, {\"location\": \"Iran (Islamic Republic of)\", \"period\": \"2012\", \"factvaluenumeric\": 18}, {\"location\": \"Russian Federation\", \"period\": \"2012\", \"factvaluenumeric\": 22}, {\"location\": \"United States of America\", \"period\": \"2011\", \"factvaluenumeric\": 15}, {\"location\": \"Uruguay\", \"period\": \"2011\", \"factvaluenumeric\": 17}, {\"location\": \"Saudi Arabia\", \"period\": \"2011\", \"factvaluenumeric\": 18}, {\"location\": \"Iran (Islamic Republic of)\", \"period\": \"2011\", \"factvaluenumeric\": 19}, {\"location\": \"Russian Federation\", \"period\": \"2011\", \"factvaluenumeric\": 23}, {\"location\": \"United States of America\", \"period\": \"2010\", \"factvaluenumeric\": 15}, {\"location\": \"Uruguay\", \"period\": \"2010\", \"factvaluenumeric\": 17}, {\"location\": \"Saudi Arabia\", \"period\": \"2010\", \"factvaluenumeric\": 19}, {\"location\": \"Iran (Islamic Republic of)\", \"period\": \"2010\", \"factvaluenumeric\": 22}, {\"location\": \"Russian Federation\", \"period\": \"2010\", \"factvaluenumeric\": 25}, {\"location\": \"United States of America\", \"period\": \"2009\", \"factvaluenumeric\": 15}, {\"location\": \"Uruguay\", \"period\": \"2009\", \"factvaluenumeric\": 19}, {\"location\": \"Saudi Arabia\", \"period\": \"2009\", \"factvaluenumeric\": 20}, {\"location\": \"Iran (Islamic Republic of)\", \"period\": \"2009\", \"factvaluenumeric\": 25}, {\"location\": \"Russian Federation\", \"period\": \"2009\", \"factvaluenumeric\": 27}, {\"location\": \"United States of America\", \"period\": \"2008\", \"factvaluenumeric\": 14}, {\"location\": \"Uruguay\", \"period\": \"2008\", \"factvaluenumeric\": 19}, {\"location\": \"Saudi Arabia\", \"period\": \"2008\", \"factvaluenumeric\": 20}, {\"location\": \"Iran (Islamic Republic of)\", \"period\": \"2008\", \"factvaluenumeric\": 28}, {\"location\": \"Russian Federation\", \"period\": \"2008\", \"factvaluenumeric\": 30}, {\"location\": \"United States of America\", \"period\": \"2007\", \"factvaluenumeric\": 14}, {\"location\": \"Uruguay\", \"period\": \"2007\", \"factvaluenumeric\": 20}, {\"location\": \"Saudi Arabia\", \"period\": \"2007\", \"factvaluenumeric\": 21}, {\"location\": \"Iran (Islamic Republic of)\", \"period\": \"2007\", \"factvaluenumeric\": 30}, {\"location\": \"Russian Federation\", \"period\": \"2007\", \"factvaluenumeric\": 32}, {\"location\": \"United States of America\", \"period\": \"2006\", \"factvaluenumeric\": 14}, {\"location\": \"Uruguay\", \"period\": \"2006\", \"factvaluenumeric\": 20}, {\"location\": \"Saudi Arabia\", \"period\": \"2006\", \"factvaluenumeric\": 21}, {\"location\": \"Iran (Islamic Republic of)\", \"period\": \"2006\", \"factvaluenumeric\": 32}, {\"location\": \"Russian Federation\", \"period\": \"2006\", \"factvaluenumeric\": 36}, {\"location\": \"United States of America\", \"period\": \"2005\", \"factvaluenumeric\": 13}, {\"location\": \"Saudi Arabia\", \"period\": \"2005\", \"factvaluenumeric\": 22}, {\"location\": \"Uruguay\", \"period\": \"2005\", \"factvaluenumeric\": 22}, {\"location\": \"Iran (Islamic Republic of)\", \"period\": \"2005\", \"factvaluenumeric\": 34}, {\"location\": \"Russian Federation\", \"period\": \"2005\", \"factvaluenumeric\": 42}, {\"location\": \"United States of America\", \"period\": \"2004\", \"factvaluenumeric\": 13}, {\"location\": \"Saudi Arabia\", \"period\": \"2004\", \"factvaluenumeric\": 22}, {\"location\": \"Uruguay\", \"period\": \"2004\", \"factvaluenumeric\": 23}, {\"location\": \"Iran (Islamic Republic of)\", \"period\": \"2004\", \"factvaluenumeric\": 36}, {\"location\": \"Russian Federation\", \"period\": \"2004\", \"factvaluenumeric\": 45}, {\"location\": \"United States of America\", \"period\": \"2003\", \"factvaluenumeric\": 13}, {\"location\": \"Saudi Arabia\", \"period\": \"2003\", \"factvaluenumeric\": 23}, {\"location\": \"Uruguay\", \"period\": \"2003\", \"factvaluenumeric\": 23}, {\"location\": \"Iran (Islamic Republic of)\", \"period\": \"2003\", \"factvaluenumeric\": 39}, {\"location\": \"Russian Federation\", \"period\": \"2003\", \"factvaluenumeric\": 49}, {\"location\": \"United States of America\", \"period\": \"2002\", \"factvaluenumeric\": 13}, {\"location\": \"Saudi Arabia\", \"period\": \"2002\", \"factvaluenumeric\": 23}, {\"location\": \"Uruguay\", \"period\": \"2002\", \"factvaluenumeric\": 25}, {\"location\": \"Iran (Islamic Republic of)\", \"period\": \"2002\", \"factvaluenumeric\": 41}, {\"location\": \"Russian Federation\", \"period\": \"2002\", \"factvaluenumeric\": 51}, {\"location\": \"United States of America\", \"period\": \"2001\", \"factvaluenumeric\": 13}, {\"location\": \"Saudi Arabia\", \"period\": \"2001\", \"factvaluenumeric\": 24}, {\"location\": \"Uruguay\", \"period\": \"2001\", \"factvaluenumeric\": 25}, {\"location\": \"Iran (Islamic Republic of)\", \"period\": \"2001\", \"factvaluenumeric\": 44}, {\"location\": \"Russian Federation\", \"period\": \"2001\", \"factvaluenumeric\": 53}, {\"location\": \"United States of America\", \"period\": \"2000\", \"factvaluenumeric\": 12}, {\"location\": \"Saudi Arabia\", \"period\": \"2000\", \"factvaluenumeric\": 24}, {\"location\": \"Uruguay\", \"period\": \"2000\", \"factvaluenumeric\": 26}, {\"location\": \"Iran (Islamic Republic of)\", \"period\": \"2000\", \"factvaluenumeric\": 48}, {\"location\": \"Russian Federation\", \"period\": \"2000\", \"factvaluenumeric\": 56}]}}, {\"mode\": \"vega-lite\"});\n",
       "</script>"
      ],
      "text/plain": [
       "alt.Chart(...)"
      ]
     },
     "execution_count": 37,
     "metadata": {},
     "output_type": "execute_result"
    }
   ],
   "source": [
    "alt.Chart(intl_rates_overtime_long).mark_line(point=True).encode(\n",
    "    x=alt.X(\"period:O\", timeUnit=\"year\"),\n",
    "    y=alt.Y(\"factvaluenumeric\"),\n",
    "    color=alt.Color(\"location:N\"),\n",
    ")"
   ]
  }
 ],
 "metadata": {
  "kernelspec": {
   "display_name": "Python 3 (ipykernel)",
   "language": "python",
   "name": "python3"
  },
  "language_info": {
   "codemirror_mode": {
    "name": "ipython",
    "version": 3
   },
   "file_extension": ".py",
   "mimetype": "text/x-python",
   "name": "python",
   "nbconvert_exporter": "python",
   "pygments_lexer": "ipython3",
   "version": "3.9.13"
  }
 },
 "nbformat": 4,
 "nbformat_minor": 5
}
